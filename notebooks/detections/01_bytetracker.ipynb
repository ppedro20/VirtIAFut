{
 "cells": [
  {
   "cell_type": "markdown",
   "id": "8ce72010",
   "metadata": {},
   "source": [
    "01. ByteTracker \n",
    "- very easy to implement since its integrated to supervision - the open-source computer vision toolkit by Roboflow\n"
   ]
  },
  {
   "cell_type": "code",
   "execution_count": 8,
   "id": "7689e3bb",
   "metadata": {},
   "outputs": [
    {
     "name": "stderr",
     "output_type": "stream",
     "text": [
      "UserWarning: Specified provider 'CUDAExecutionProvider' is not in available provider names.Available providers: 'AzureExecutionProvider, CPUExecutionProvider'\n",
      "UserWarning: Specified provider 'OpenVINOExecutionProvider' is not in available provider names.Available providers: 'AzureExecutionProvider, CPUExecutionProvider'\n",
      "UserWarning: Specified provider 'CoreMLExecutionProvider' is not in available provider names.Available providers: 'AzureExecutionProvider, CPUExecutionProvider'\n"
     ]
    }
   ],
   "source": [
    "#imports and paths\n",
    "import os\n",
    "from inference import get_model\n",
    "import supervision as sv\n",
    "from ultralytics import YOLO\n",
    "import numpy as np\n",
    "import sys\n",
    "sys.path.append(os.getenv(\"PROJECT_PATH\"))\n",
    "\n",
    "VIDEO_PATH = \"../../data/videos/testvid.mp4\"\n",
    "\n",
    "PLAYER_DETECTION_MODEL_ID = 'football-players-detection-3zvbc/2'\n",
    "ROBOFLOW_API_KEY = os.getenv(\"ROBOFLOW_API_KEY\")\n",
    "PLAYER_DETECTION_MODEL = get_model(PLAYER_DETECTION_MODEL_ID, ROBOFLOW_API_KEY)\n",
    "tracker = sv.ByteTrack()\n"
   ]
  },
  {
   "cell_type": "markdown",
   "id": "0b2a3934",
   "metadata": {},
   "source": [
    "ByteTracker"
   ]
  },
  {
   "cell_type": "code",
   "execution_count": 9,
   "id": "ec07e37a",
   "metadata": {},
   "outputs": [
    {
     "name": "stderr",
     "output_type": "stream",
     "text": [
      "collecting crops: 6it [00:06,  1.14s/it]\n",
      "Embedding extraction: 4it [00:35,  8.96s/it]\n"
     ]
    },
    {
     "name": "stdout",
     "output_type": "stream",
     "text": [
      "Number of players detected: 123\n"
     ]
    }
   ],
   "source": [
    "#Team Assignment based on colours\n",
    "#use of the SigLIP, UMAP, and KMeans combo\n",
    "import supervision as sv\n",
    "from tqdm import tqdm\n",
    "from utils.teamclassifier import TeamClassifier\n",
    "\n",
    "PLAYER_ID = 2\n",
    "STRIDE = 30\n",
    "frame_generator = sv.get_video_frames_generator(\n",
    "    source_path=VIDEO_PATH, stride=STRIDE\n",
    ")\n",
    "\n",
    "crops = []\n",
    "for frame in tqdm(frame_generator, desc=\"collecting crops\"):\n",
    "    result = PLAYER_DETECTION_MODEL.infer(frame, confidence=0.3)[0]\n",
    "    detections = sv.Detections.from_inference(result)\n",
    "    players_detections = detections[detections.class_id == PLAYER_ID]\n",
    "    \n",
    "    # Skip the frame if no players are detected\n",
    "    if len(players_detections.xyxy) == 0:\n",
    "        continue\n",
    "    \n",
    "    players_crops = [sv.crop_image(frame, xyxy) for xyxy in players_detections.xyxy]\n",
    "    crops += players_crops\n",
    "\n",
    "# Ensure there are enough crops for clustering\n",
    "if len(crops) < 2:\n",
    "    print(\"Not enough player crops detected. Skipping team classification.\")\n",
    "else:\n",
    "    team_classifier = TeamClassifier(device=\"cpu\")\n",
    "    team_classifier.fit(crops)\n",
    "    \n",
    "print(f\"Number of players detected: {len(crops)}\")"
   ]
  },
  {
   "cell_type": "code",
   "execution_count": null,
   "id": "821a5aba",
   "metadata": {},
   "outputs": [
    {
     "name": "stderr",
     "output_type": "stream",
     "text": [
      "SupervisionWarnings: BoundingBoxAnnotator is deprecated: `BoundingBoxAnnotator` is deprecated and has been renamed to `BoxAnnotator`. `BoundingBoxAnnotator` will be removed in supervision-0.26.0.\n",
      "Embedding extraction: 1it [00:06,  6.24s/it]\n",
      "Embedding extraction: 1it [00:06,  6.07s/it]\n",
      "Embedding extraction: 1it [00:05,  5.85s/it]\n",
      "Embedding extraction: 1it [00:05,  5.74s/it]\n",
      "Embedding extraction: 1it [00:05,  5.78s/it]\n",
      "Embedding extraction: 1it [00:07,  7.59s/it]\n",
      "Embedding extraction: 1it [00:06,  6.57s/it]\n",
      "Embedding extraction: 1it [00:07,  7.28s/it]\n",
      "Embedding extraction: 1it [00:10, 10.30s/it]\n",
      "Embedding extraction: 1it [00:07,  7.70s/it]\n",
      "Embedding extraction: 1it [00:07,  7.41s/it]\n",
      "Embedding extraction: 0it [00:00, ?it/s]"
     ]
    }
   ],
   "source": [
    "#save results in video\n",
    "tracker = sv.ByteTrack()\n",
    "\n",
    "bounding_box_annotator = sv.BoundingBoxAnnotator()\n",
    "label_annotator = sv.LabelAnnotator()\n",
    "\n",
    "BALL_ID = 0\n",
    "GOALKEEPER_ID = 1\n",
    "PLAYER_ID = 2\n",
    "\n",
    "def callback(frame: np.ndarray, index: int) -> np.ndarray:\n",
    "    results = PLAYER_DETECTION_MODEL.infer(frame,confidence=0.3)[0]\n",
    "    detections = sv.Detections.from_inference(results)\n",
    "    \n",
    "    all_detections = detections[detections.class_id != BALL_ID]\n",
    "    all_detections = all_detections.with_nms(threshold=0.5, class_agnostic=True)\n",
    "    all_detections = tracker.update_with_detections(detections=all_detections)\n",
    "    \n",
    "    goalkeepers_detections = all_detections[all_detections.class_id == GOALKEEPER_ID]\n",
    "    players_detections = all_detections[all_detections.class_id == PLAYER_ID]\n",
    "    \n",
    "    # team assignment\n",
    "    players_crops = [sv.crop_image(frame, xyxy) for xyxy in players_detections.xyxy]\n",
    "    players_detections.class_id = team_classifier.predict(players_crops)\n",
    "\n",
    "    if len(goalkeepers_detections.xyxy) > 0:\n",
    "        goalkeepers_detections.class_id = resolve_goalkeepers_team_id(\n",
    "            players_detections, goalkeepers_detections)\n",
    "    else:\n",
    "        #if no gk detected no need to resolve team id\n",
    "        goalkeepers_detections.class_id = np.array([])\n",
    "    \n",
    "    all_detections = sv.Detections.merge([players_detections, goalkeepers_detections])\n",
    "\n",
    "    labels = [f\"#{tracker_id}\" for tracker_id in all_detections.tracker_id]\n",
    "\n",
    "    annotated_frame = bounding_box_annotator.annotate(\n",
    "        scene=frame.copy(), detections=all_detections)\n",
    "    annotated_frame = label_annotator.annotate(\n",
    "        scene=annotated_frame, detections=all_detections, labels=labels)\n",
    "    \n",
    "    return annotated_frame\n",
    "\n",
    "sv.process_video(\n",
    "    source_path= VIDEO_PATH,\n",
    "    target_path= \"../../data/tracker_outputs/testvid-v1.mp4\",\n",
    "    callback=callback\n",
    ")"
   ]
  }
 ],
 "metadata": {
  "kernelspec": {
   "display_name": "Python 3",
   "language": "python",
   "name": "python3"
  },
  "language_info": {
   "codemirror_mode": {
    "name": "ipython",
    "version": 3
   },
   "file_extension": ".py",
   "mimetype": "text/x-python",
   "name": "python",
   "nbconvert_exporter": "python",
   "pygments_lexer": "ipython3",
   "version": "3.10.11"
  }
 },
 "nbformat": 4,
 "nbformat_minor": 5
}
