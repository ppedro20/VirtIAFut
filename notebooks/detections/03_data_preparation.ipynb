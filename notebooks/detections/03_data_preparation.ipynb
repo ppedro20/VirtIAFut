{
 "cells": [
  {
   "cell_type": "markdown",
   "id": "6e3fb4be",
   "metadata": {},
   "source": [
    "03. DATA PREPARATION"
   ]
  },
  {
   "cell_type": "code",
   "execution_count": 8,
   "id": "a3144b39",
   "metadata": {},
   "outputs": [],
   "source": [
    "import pandas as pd\n",
    "import numpy as np\n",
    "\n",
    "filepath = '../../data/raw-coords/3-fullvideo.csv'\n",
    "\n",
    "traindf = '../data/train/train.csv'\n",
    "\n",
    "df = pd.read_csv(filepath)\n",
    "\n",
    "traindf = df"
   ]
  },
  {
   "cell_type": "code",
   "execution_count": 9,
   "id": "291e8d50",
   "metadata": {},
   "outputs": [],
   "source": [
    "#drop empty columns\n",
    "traindf = df.dropna(axis=1, how='all')"
   ]
  },
  {
   "cell_type": "markdown",
   "id": "b9aa8dc7",
   "metadata": {},
   "source": [
    "See Transitions of ids or detect ids of referees or other entities - manually"
   ]
  },
  {
   "cell_type": "code",
   "execution_count": null,
   "id": "ea07350a",
   "metadata": {},
   "outputs": [],
   "source": [
    "#TEAM 0 - PSG \n",
    "#gk - id281_0 ff106 lf127 -> id268_1 lf130 -> 323_0 lf137 -> 281_0 lf181 -> 428_0 lf152 -> 524_0 ff-202 lf-230 -> 614_0 ff-233 lf-290 -> 725_0 ff-292 lf-401 -> 1074_1 ff-428 lf-433\n",
    "#lb - id5_0 ff0 lf67 -> id129_0 ff69 lf92 -> id188_0 ff94 lf103 -> id270_0 ff105 lf133 -> id_365_0 ff138 lf194 -> id502_0 ff196 lf209 -> id537_0 ff212 lf230 ->id608_0 ff232 lf250 -> id639_0 ff252 lf263 -> id652_0 ff265 lf285 -> id652_0 ff287 lf305-309? (ver este frame pois o outro jogar fica com este id pq passaram \"um por cima do outro\") -> id765_0 ff310 lf392 -> id855_0 ff394 lf428 -> id1104_0 ff431 lf438 ->id1027_0 ff439 (falha no frame 443) lf451 -> id582_1 ff452 lf452 -> id1104_0 ff453 lf454 -> id1212_0 ff458 lf470 -> id1339_0 ff472 lf503 -> id1420_0 ff505 lf505 -> id1027_0 ff509 lf544\n",
    "#cb1 - id13_0 ff0 lf97  -> id255_0 ff103 lf132 -> id381_0 ff140 lf203 -> id528_0 ff205 lf211 -> id539_0 ff213 (216-219 fica noutra equipa) lf230 ->id381_0 ff232 lf264 -> id660_0 ff266 lf272 -> id381_0 ff273 lf290 -> id660_0 ff291 lf358 -> id809_0 ff373 lf408 (376-380 e 401  jogadores sobrepostos fica no da outra equipa) -> id869_1 ff409 lf419 -> id1028_0 ff424 lf428 -> id1094_0 ff430 lf452 -> id1252_0 ff460 lf470 -> id1341_0 l/ff472 -> id1349_0 ff474 lf479 -> id1379 ff481 lf482 -> id1392_0 l/ff485 -> id1396_0 l/ff488 -> id1402_0 ff491 lf494 -> id1396 ff496 -> id1379_0 ff496 lf499 -> id1402_0 ff503 lf507 -> id1448_0 ff509 lf517 -> id1402_0 ff518 lf544\n",
    "#cb2 - id10_0 ff0 lf60 -> id99_0 ff63 lf68 -> id10 ff69 lf84 -> id70_1 ff 85 lf86 -> id172_0 ff88 lf95 -> id197_0 l/ff97 -> id226_0  l/ff100 -> id235_0 l/ff101 -> id247_0 ff103 lf132 (existem frames pelo meio que ele não apanha: ex 105) -> id387_0 ff141 lf150 -> id433_0 l/ff154 -> id437_0 ff156 lf173 -> id468_0 ff175 lf194 -> id503 ff197 lf220 -> id581_0 ff224 lf226 (226-228 jog equipa contraria fica com id) -> id604_0 ff229 lf296 -> id368_0 ff297 lf303 -> id604_0 ff304 lf376 -> id822_0 ff378 lf402 -> id876_0 l/ff404 -> id604_0 ff405 lf410 -> id931_0 ff414 lf418 (troca para jogador sobreposto) -> id1063_0 ff427 lf451 -> id1263_0 l/ff461 -> id1243_1 ff466 lf471 -> id1346_0 ff473 lf478 -> id1135_1 ff479 -> id1378_0 ff481 lf482 -> id1220_1 ff483 lf506 -> id1346_0 ff508 lf509 -> id1341_0 ff510 lf544 \n",
    "#rb -  id19_0 ff0 lf40 - id45_0 ff42 lf67 -> id130_0 ff69 lf76 -> id146_0 ff78 lf91 -> id186_0 ff94 lf97 -> id131 ff98 -> id45_0 ff99 ->id254_0 ff103 lf132 -> id393_0 ff142 lf148 -> id368_0 (id jogador outro msm equipa) ff150 lf216 -> id584 ff224 lf262 -> id661_0 ff266 lf284 -> id739_1 ff296 lf412 (este id está em constante troca entre 2 jogadores) -> id822 ff413 lf414 -> id763 ff415 lf416 -> id876 ff417 -> id604 ff419 -> id978_1 ff424 -> id931_0 ff425 -> id1083_0 ff429 lf453 -> id1093_1 ff454 -> id1268_0 ff461 -> id1296_0 ff464 -> id1309_0 ff466 lf1309 -> id1373 ff478 lf479 -> id1309 ff480 lf481 -> id1386_0 ff484 lf503 -> id1425 ff506 lf507 -> id1373_0 ff508 lf 509 -> id1372_1 ff510 lf517 -> id1425_0 f518 lf519 -> id1373_0 ff521 lf544\n",
    "#cm1 (vitinha) - id2_0 ff0 lf60 -> id108_0 ff64 lf97 -> id105 ff100 -> id256_0 ff103 lf132  -> id72_0 ff133 lf137 -> id367_0 ff138 lf143 -> id422_0 ff148 lf156 -> id392_1 ff157 lf158 -> id443_0 ff160 lf169 -> id474_0 ff178 -> id477_0 ff180 lf194  -> id468_0 ff198 -> id518_0 ff200 lf220 -> id580_0 ff224 -> id592_0 ff226 lf238 -> id581_0 ff240 -> id626_0 ff242 lf264 -> id657_0 ff266 lf270 -> id626_0 ff271 lf279 -> id657_0 ff280 lf281 -> id692_0 ff283 -> id700_0 ff286 -> id724_0 ff292 lf420 (334 e 335 para e volta no 336) -> id1027_0 ff424 lf429 -> id1103 ff431 lf452 -> id1249_0 ff460 lf492 (frame 469-471 para e volta) -> id1412_0 ff495 lf519 -> id1489_0 ff521 lf522 -> id1445_1 ff523  lf524 -> id1499_1 ff525 -> id1503_1 ff530 -> id1489_0 ff532 lf539 -> id1511_0 ff541 lf542 ->id1445_1 ff543 lf544\n",
    "#cm2 (fabian ruiz) - id4_0 ff0 lf52 -> id63_0 ff55 -> id66_0 ff57 lf76 -> id147_0 ff78 lf97 (muda para jogador adver sobreposto) -> id264_0 ff103 lf104 -> id279_0 ff106 lf113 -> id264_0 (mudou de jogar adv sobreposto) ff116 lf121 -> id248_1 ff122 -> id306_0 ff125 lf217 -> id556_0 ff223 lf234 -> id393_0 ff235 -> id556_0 ff236 lf258 -> id544_1 ff259 lf261 -> id552_0 ff262 -> id671_0 ff269 lf302 -> id652_0 (ficou com o do comp de equipa) ff304 lf428 ->id1089_0 ff430 -> id582_1 ff432 -> id1116_0 ff434 lf453 -> id1238_0 ff459 lf530 -> id1507_0 ff534 lf543\n",
    "#cm3 (joao neves) - id16_0 ff0 lf10 -> id37_0 ff28 lf50 -> id61_0 ff55 lf67 -> id131_0 ff70 lf75 -> id61 ff76 lf77 -> id160_0 ff81 lf84 -> id45_0 ff89 -> id183_0 ff92 lf97 -> id257_0 ff103 lf127 -> id276_1 ff128 lf135 -> id368_0 ff138 lf149 (mudou para um comp de equipa) -> id434_0 ff154 lf163 -> id432_1 ff164 lf182 -> id486_0 ff184 -> id393_0 ff186 lf217 -> id432_1 ff218 -> id536_0 ff222 lf224 -> id597_0 ff227 lf263 -> id664_0 ff266 lf304 -> id760_0 ff307 lf401 -> id625_0 ff402 lf419 -> id984_0 ff421 -> id1011_0 ff423 lf429 -> id836_0 ff430 lf431 -> id1111_0 ff433 lf452 -> id1216_0 ff458 lf469 -> id1111_0 ff470 -> id1343_0 ff472 -> id1106_1 ff473 -> id1250_1 ff474 lf477 -> id1389_0 ff484 lf502 -> id1250_1 ff508 -> id1347_0 ff513 -> id1494_0 ff522 -> id1502_0 ff526 lf544                           \n",
    "#st(dembele) - id17_0 ff0 lf58 -> id125_0 ff66 lf88 -> id17_0 ff89 lf91 -> id125_0 ff92 lf203 -> id543_0 ff216 lf219 -> id248_1 ff222 lf230 -> id607_0 ff232 lf422 -> id1073_0 ff428 lf456 -> id1310_0 ff466 -> id1320_0 ff468 lf473 -> id1376_0 ff480 -> id1383_0 ff482 -> id1310_0 ff487 lf521 -> id1495_0 ff523 lf544\n",
    "#lw (kvara) - id1_0 ff0 lf68 -> id 132_0 ff70 -> id135_0 ff72 lf88 -> id176_0 ff90 lf98 -> id253_0 ff103 lf104 -> id275_0 ff106 lf128 -> id111_1 ff129 lf142 -> id404_0 ff144 lf217 -> id552_0 ff219 lf232 -> id596_1 ff235 lf243 -> id635_1 ff251 lf253 -> id544_1 ff254 lf255 -> id644_0 ff257 lf264 -> id596_1 ff265 lf281 -> id544_1 ff282 lf284 -> id656_1 ff285 lf286 -> id708_1 ff298 lf396 -> id859_0 ff398 lf411 ff416 lf429 -> id1101_0 ff431 lf451 -> id1306_0 ff466 lf544\n",
    "#rw (barcola) - id20_0 ff0 lf44 -> id47_0 ff46 lf80 -> id165_0 ff84 lf97 -> id258_0 ff103 lf104 -> id288_0 ff108 lf134 -> id357_0 ff137 lf164 -> id448_0 ff166 lf220 -> id577_0 ff224 lf264 -> id663_0 ff266 lf283 -> id696_0 ff85 -> id701_0 ff287 -> id709_0 ff289  -> id730_0 ff293 -> id741_0 ff296 -> id744 ff298 -> id750 ff300 lf429 -> id1098_0 ff431 lf453 -> id1234_0 ff459 lf475 -> id1368_0 ff478 lf540 -> id1452_1 ff541 lf544    "
   ]
  },
  {
   "cell_type": "markdown",
   "id": "2abdf0dc",
   "metadata": {},
   "source": [
    "TEAM 1 - Liverpool"
   ]
  },
  {
   "cell_type": "code",
   "execution_count": null,
   "id": "33d76b6e",
   "metadata": {},
   "outputs": [],
   "source": [
    "#gk alisson: id22 lf51 ->id54 ltf57 ->id69 ltf62 ->id1099 ltf455 ->1174\n",
    "df.loc[51:, 'id_22_team_1'] = df.loc[51:, 'id_54_team_1']\n",
    "df.loc[57:, 'id_22_team_1'] = df.loc[57:, 'id_69_team_1']\n",
    "df.loc[62:, 'id_22_team_1'] = df.loc[62:, 'id_1099_team_1']\n",
    "df.loc[455:, 'id_22_team_1'] = df.loc[455:, 'id_1174_team_1']"
   ]
  },
  {
   "cell_type": "code",
   "execution_count": 10,
   "id": "757fea4d",
   "metadata": {},
   "outputs": [],
   "source": [
    "#cb1 vdj: id14 lf61-64 ->id121 ltf73-81 ->id163 ltf91-92 ->id187 ltf221-223 ->id576 ltf413-414 -> id936 ltf416-423 ->\n",
    "#id658 ltf425-429 -> id1088 ltf453-460 ->id1266 ltf462-463 ->id1295 ltf475-477 ->id1371 ltf508-509 ->\n",
    "# id1452 ltf511-516 -> id1480 ltf522 ->id1480\n",
    "df.loc[64:, 'id_14_team_1'] = df.loc[64:, 'id_121_team_1']\n",
    "df.loc[81:, 'id_14_team_1'] = df.loc[81:, 'id_163_team_1']\n",
    "df.loc[92:, 'id_14_team_1'] = df.loc[92:, 'id_187_team_1']\n",
    "df.loc[223:, 'id_14_team_1'] = df.loc[223:, 'id_576_team_1']\n",
    "df.loc[414:, 'id_14_team_1'] = df.loc[414:, 'id_936_team_1']\n",
    "df.loc[423:, 'id_14_team_1'] = df.loc[423:, 'id_658_team_1']\n",
    "df.loc[429:, 'id_14_team_1'] = df.loc[429:, 'id_1088_team_1']\n",
    "df.loc[460:, 'id_14_team_1'] = df.loc[460:, 'id_1266_team_1']\n",
    "df.loc[463:, 'id_14_team_1'] = df.loc[463:, 'id_1295_team_1']\n",
    "df.loc[477:, 'id_14_team_1'] = df.loc[477:, 'id_1371_team_1']\n",
    "df.loc[509:, 'id_14_team_1'] = df.loc[509:, 'id_1452_team_1']\n",
    "df.loc[516:, 'id_14_team_1'] = df.loc[516:, 'id_1480_team_1']\n",
    "df.loc[522:, 'id_14_team_1'] = df.loc[522:, 'id_1480_team_1']"
   ]
  },
  {
   "cell_type": "code",
   "execution_count": null,
   "id": "6cb36a6d",
   "metadata": {},
   "outputs": [],
   "source": [
    "#cb2 konate: id11 lf61 ->id84 lf63-64->id118 lf91-96->id185 lf142->id248->id125 f206->id248 lf222->id575->f231 id248 lf419-429->id1086 lf453-458->id1230 lf476->id1366 lf485->id1383 lf509-511->id1462 lf531-532->id1505\n",
    "df.loc[64:, 'id_14_team_1'] = df.loc[64:, 'id_121_team_1']"
   ]
  },
  {
   "cell_type": "code",
   "execution_count": null,
   "id": "01c640ea",
   "metadata": {},
   "outputs": [],
   "source": [
    "#rb tt: id3 lf49-> id48 lf51-52->id57 lf63->id111 lf98->id206 lf218->id550 lf230-232->id613 lf255->id643 lf257->id622 lf344-345->id786 lf347-354->id798 lf387->id845 lf421->id999 f422->id607 lf425-428->id1077 lf480->id1381 lf527->id1504\n",
    "#lb robo: id9 lf58->id71 lf61-65->id127 lf77-80->id162 lf86-90 ->id177 lf104-106->id284 lf132-147->id421 lf150-152->id432 lf159-167->id422 lf169-173->id465 f174 ->id393 lf178-187->id494 lf189->id495 f190->id474 191-204 ->id381 205-206 lf207 ->id534 208-213->id474 214 lf215->id541 216 lf217->id548 218-220->id381 f221->id503 f222 lf223-225->id581 lf240->id592 f241-242->id564 lf245->id585 lf248-251->id637 lf252->id641 lf265->id658 lf405-429->id1093 lf452-471->id1340 lf474-477->id1370\n",
    "#cm grav: id6 0-40 -> id46 42-50 ->id53 52-> id101 63-85 -> id101 93-94 ->id160 95 ->id61 97->id47 100->id267 104->id276 106-111->id267 112-128->id315 130-134->id257 135-136->id276 137-153->id436 155-220->id582 224-428->id1106 432-452->id1198 457->id1250 460-470->id1198 471->id1344 473-483->id1390 485-489->id1249 493-504->id1445 509-522->id1503 526 528-529 532-544\n",
    "#cm mc: id12 0-9 11-14->id16 15-57->id81 61->id97 63-93->id147 98-99->id225 100->id234 101->id248 102->id264 110-115 122-123->id176 124->id248 125-131->id326 133-142->id402 144-146->id185 147->id402 148-215->id544 217-221->id578 224-244->id544 247-248->id635 250 252->id644 258->id648 262-273->id635 276-277->id650 278->id656 279->id639 280->id708 289-297->id753 301-376->id823 378-427->id1100 431-452->id582 455->id1027 456->id1104 458->id1337 472-475->id1369 478-531->id1506 533-534 537-541->id1238 542\n",
    "#cam szobo: id8 0-60->id106 64-92->id252 103-206->id502 210-214->id539 217-219->id402 225->id596 227-234->id622 237-241 244-245->id596 246-260->id650 264->id656 265->id667 267-346->id789 348-410->id859 412-414->id945 416-428->id1090 430-454->id1197 457->id1350 474-544\n",
    "#lw diaz: id15 0-56->id70 59->id124 66-82->id167 85->id10 86->id70 87-89->id268 104-120->id172 121-126->id322 132-165->id367 166->id496 191-219->id598 227-263->id662 266-401->id883 406-418->id1095 430-449->id1138 451-452->id1315 467-475->id1372 478-506->id1446 509-519->id1490 521-544\n",
    "#rw salah: id7 0-92->id191 95-103->id269 105-134->id363 138-206 208-209->id535 211-221->id404 222->id590 225-264->id668 267-278->id687 280-288->id720 291->id728 293-309->id656 310-335 338-375->id809 376-380->id841 386-400->id869 403->id724 406->id1060 427-453->id1100 454->id582 456->id1027 458->id1104 460-461->id1307 466-472->id1348 474-487->id1398 489-518->id1485 520-524 527-544\n",
    "#st jota: id18 0-57->id126 66-96->id72 103-111->id105 112-140->id392 142-155->id438 157-177->id433 184-196->id532 206-213 217->id368 221->id564 222->id585 224-230->id368 231-271->id676 274-283 285-293->id295 739->id746 298-305->id763 309-314 317-324 327-329 334-408->id822 409->id876 411->id604 413->id931 419->id978 420->id1081 429-447->id931 448->id1135 450-452->id1143 453->id1157 454->id1191 456->id1207 457->id1220 458->id1243 459-461->id1263 462-475->id1367 478-488->id1341 490->id1349 495-496->id1392 497-503->id1458 511->id1389 513-514->id1479 517-544"
   ]
  },
  {
   "cell_type": "code",
   "execution_count": null,
   "id": "4d582c30",
   "metadata": {},
   "outputs": [],
   "source": [
    "#drop extra columns\n",
    "df = df.drop(columns=['id_54_team_1','id_69_team_1','id_1099_team_1','id_1174_team_1'])"
   ]
  },
  {
   "cell_type": "code",
   "execution_count": null,
   "id": "e4bfa19e",
   "metadata": {},
   "outputs": [],
   "source": [
    "#id2 lt f14 -> id43\\n\",\n",
    "\"df.loc[14:, 'id_2_team_1'] = df.loc[14:, 'id_43_team_1']\\n\",\n",
    "\"df = df.drop(columns=['id_43_team_1'])\\n"
   ]
  },
  {
   "cell_type": "code",
   "execution_count": null,
   "id": "f3b03b58",
   "metadata": {},
   "outputs": [],
   "source": [
    "#drop extra ids\n",
    "#extreme cases:\n",
    "#frame 147 - see subs\n",
    "#frame 73 - see sideline referee\n",
    "\n",
    "#ids:\n",
    "#21,72,105,8,108,316,472,432,536,602,625,836,843,1102,1232,1347,1216,1496 - referee\n",
    "#682 - camera men\n",
    "#334,307,305,621,416,759,767,779,825,836,843,851,849,868,760,903 - sub \n",
    "#775,1128,1133,1121,964,887,814,775,416 - side line referee\n",
    "df = df.drop(columns=['x', 'y',...])"
   ]
  },
  {
   "cell_type": "markdown",
   "id": "504d6202",
   "metadata": {},
   "source": [
    "Random Walk / Interpolation of missing values"
   ]
  },
  {
   "cell_type": "code",
   "execution_count": null,
   "id": "64aa0159",
   "metadata": {},
   "outputs": [],
   "source": [
    "#todo\n"
   ]
  },
  {
   "cell_type": "markdown",
   "id": "4a581a67",
   "metadata": {},
   "source": [
    "Save Dataset"
   ]
  },
  {
   "cell_type": "code",
   "execution_count": null,
   "id": "c7cf251d",
   "metadata": {},
   "outputs": [],
   "source": [
    "#save new dataset to train folder\n"
   ]
  }
 ],
 "metadata": {
  "kernelspec": {
   "display_name": "Python 3",
   "language": "python",
   "name": "python3"
  },
  "language_info": {
   "codemirror_mode": {
    "name": "ipython",
    "version": 3
   },
   "file_extension": ".py",
   "mimetype": "text/x-python",
   "name": "python",
   "nbconvert_exporter": "python",
   "pygments_lexer": "ipython3",
   "version": "3.10.11"
  }
 },
 "nbformat": 4,
 "nbformat_minor": 5
}
