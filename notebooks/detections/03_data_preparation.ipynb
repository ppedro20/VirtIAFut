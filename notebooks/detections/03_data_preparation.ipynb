{
 "cells": [
  {
   "cell_type": "markdown",
   "id": "6e3fb4be",
   "metadata": {},
   "source": [
    "03. DATA PREPARATION"
   ]
  },
  {
   "cell_type": "code",
   "execution_count": 2,
   "id": "a3144b39",
   "metadata": {},
   "outputs": [
    {
     "data": {
      "text/plain": [
       "Index(['frame_index', 'ball', 'id_1_team_0', 'id_2_team_0', 'id_3_team_1',\n",
       "       'id_4_team_0', 'id_5_team_0', 'id_6_team_1', 'id_7_team_1',\n",
       "       'id_8_team_1',\n",
       "       ...\n",
       "       'id_1133_team_1', 'id_1135_team_1', 'id_1138_team_1', 'id_1143_team_1',\n",
       "       'id_1157_team_1', 'id_1174_team_1', 'id_1191_team_1', 'id_1197_team_1',\n",
       "       'id_1198_team_1', 'id_1207_team_1'],\n",
       "      dtype='object', length=305)"
      ]
     },
     "execution_count": 2,
     "metadata": {},
     "output_type": "execute_result"
    }
   ],
   "source": [
    "import pandas as pd\n",
    "import numpy as np\n",
    "\n",
    "filepath = '../../data/raw-coords/3-fullvideo.csv'\n",
    "\n",
    "df = pd.read_csv(filepath)\n",
    "\n",
    "df.columns"
   ]
  },
  {
   "cell_type": "markdown",
   "id": "b9aa8dc7",
   "metadata": {},
   "source": [
    "See Transitions of ids or detect ids of referees or other entities - manually\n",
    "\n",
    "- lt - loses track\n",
    "- f - frame\n",
    "\n",
    "ex: id2 lt f14 -> id43 (id 2 loses track on frame 14 and becomes id 43)"
   ]
  },
  {
   "cell_type": "code",
   "execution_count": null,
   "id": "291e8d50",
   "metadata": {},
   "outputs": [],
   "source": [
    "#both\n",
    "#drop empty columns\n",
    "df = df.dropna(axis=1, how='all')\n",
    "#drop extra columns\n",
    "df = df.drop(columns=['detection_count'])\n",
    "\n",
    "#IDs to remove\n",
    "#ids: 21 - referee"
   ]
  },
  {
   "cell_type": "code",
   "execution_count": null,
   "id": "ea07350a",
   "metadata": {},
   "outputs": [],
   "source": [
    "#TEAM 0\n",
    "#id23 - gk\n",
    "#lt f51 -> id66 lt f57 -> id84 lt f62-431 -> id1288 lt f455 -> id1371 lt f471\n",
    "\n",
    "#id15 - cb1\n",
    "#lt f61-64 -> id143 lt f74-81 -> id191 lt f91-92 -> id216 lt f221-223 -> id727 lt f413-414 -> id1112 lt f416-423 -> id835 lt f425-429 -> id1276 lt f453-461\n",
    "\n",
    "#id12 - cb2\n",
    "#lt f61 -> id100 lt f63-64 -> id140 lt f91-96 -> id218 lt f142 -> id276\n",
    "\n"
   ]
  },
  {
   "cell_type": "code",
   "execution_count": null,
   "id": "33d76b6e",
   "metadata": {},
   "outputs": [],
   "source": [
    "#TEAM 1\n"
   ]
  },
  {
   "cell_type": "code",
   "execution_count": null,
   "id": "c7cf251d",
   "metadata": {},
   "outputs": [],
   "source": [
    "#save cleaned subset\n",
    "df.to_csv(subset, index=False)"
   ]
  }
 ],
 "metadata": {
  "kernelspec": {
   "display_name": "Python 3",
   "language": "python",
   "name": "python3"
  },
  "language_info": {
   "codemirror_mode": {
    "name": "ipython",
    "version": 3
   },
   "file_extension": ".py",
   "mimetype": "text/x-python",
   "name": "python",
   "nbconvert_exporter": "python",
   "pygments_lexer": "ipython3",
   "version": "3.12.6"
  }
 },
 "nbformat": 4,
 "nbformat_minor": 5
}
