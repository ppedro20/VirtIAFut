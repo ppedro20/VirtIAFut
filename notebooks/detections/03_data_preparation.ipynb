{
 "cells": [
  {
   "cell_type": "markdown",
   "id": "6e3fb4be",
   "metadata": {},
   "source": [
    "03. DATA PREPARATION"
   ]
  },
  {
   "cell_type": "code",
   "execution_count": null,
   "id": "a3144b39",
   "metadata": {},
   "outputs": [],
   "source": [
    "import pandas as pd\n",
    "import numpy as np\n",
    "\n",
    "filepath = '../../data/raw-coords/3-fullvideo.csv'\n",
    "\n",
    "df = pd.read_csv(filepath)\n",
    "\n",
    "df.columns"
   ]
  },
  {
   "cell_type": "code",
   "execution_count": 6,
   "id": "291e8d50",
   "metadata": {},
   "outputs": [],
   "source": [
    "#drop empty columns\n",
    "df = df.dropna(axis=1, how='all')"
   ]
  },
  {
   "cell_type": "markdown",
   "id": "b9aa8dc7",
   "metadata": {},
   "source": [
    "See Transitions of ids or detect ids of referees or other entities - manually\n",
    "\n",
    "- lf{x} - loses track on frame x\n",
    "\n",
    "ex: id2 lf14 -> id43 (id 2 loses track on frame 14 and becomes id 43)"
   ]
  },
  {
   "cell_type": "code",
   "execution_count": null,
   "id": "ea07350a",
   "metadata": {},
   "outputs": [],
   "source": [
    "#TEAM 0 - PSG \n",
    "#gk - id281_0 ff106 lf127 -> id268_1 lf130 -> 323_0 lf137 -> 281_0 lf181 -> 428_0 lf152 -> 524_0 ff-202 lf-230 -> 614_0 ff-233 lf-290 -> 725_0 ff-292 lf-401 -> 1074_1 ff-428 lf-433\n",
    "#lb - id5_0 ff0 lf67 -> id129_0 ff69 lf92 -> id188_0 ff94 lf103 -> id270_0 ff105 lf133 -> id_365_0 ff138 lf194 -> id502_0 ff196 lf209 -> id537_0 ff212 lf230 ->id608_0 ff232 lf250 -> id639_0 ff252 lf263 -> id652_0 ff265 lf285 -> id652_0 ff287 lf305-309? (ver este frame pois o outro jogar fica com este id pq passaram \"um por cima do outro\") -> id765_0 ff310 lf392 -> id855_0 ff394 lf428 -> id1104_0 ff431 lf438 ->id1027_0 ff439 (falha no frame 443) lf451 -> id582_1 ff452 lf452 -> id1104_0 ff453 lf454 -> id1212_0 ff458 lf470 -> id1339_0 ff472 lf503 -> id1420_0 ff505 lf505 -> id1027_0 ff509 lf544\n",
    "#cb1 - id13_0 ff0 lf97  -> id255_0 ff103 lf132 -> id381_0 ff140 lf203 -> id528_0 ff205 lf211 -> id539_0 ff213 (216-219 fica noutra equipa) lf230 ->id381_0 ff232 lf264 -> id660_0 ff266 lf272 -> id381_0 ff273 lf290 -> id660_0 ff291 lf358 -> id809_0 ff373 lf408 (376-380 e 401  jogadores sobrepostos fica no da outra equipa) -> id869_1 ff409 lf419 -> id1028_0 ff424 lf428 -> id1094_0 ff430 lf452 -> id1252_0 ff460 lf470 -> id1341_0 l/ff472 -> id1349_0 ff474 lf479 -> id1379 ff481 lf482 -> id1392_0 l/ff485 -> id1396_0 l/ff488 -> id1402_0 ff491 lf494 -> id1396 ff496 -> id1379_0 ff496 lf499 -> id1402_0 ff503 lf507 -> id1448_0 ff509 lf517 -> id1402_0 ff518 lf544\n",
    "#cb2 - id10_0 ff0 lf60 -> id99_0 ff63 lf68 -> id10 ff69 lf84 -> id70_1 ff 85 lf86 -> id172_0 ff88 lf95 -> id197_0 l/ff97 -> id226_0  l/ff100 -> id235_0 l/ff101 -> id247_0 ff103 lf132 (existem frames pelo meio que ele não apanha: ex 105) -> id387_0 ff141 lf150 -> id433_0 l/ff154 -> id437_0 ff156 lf173 -> id468_0 ff175 lf194 -> id503 ff197 lf220 -> id581_0 ff224 lf226 (226-228 jog equipa contraria fica com id) -> id604_0 ff229 lf296 -> id368_0 ff297 lf303 -> id604_0 ff304 lf376 -> id822_0 ff378 lf402 -> id876_0 l/ff404 -> id604_0 ff405 lf410 -> id931_0 ff414 lf418 (troca para jogador sobreposto) -> id1063_0 ff427 lf451 -> id1263_0 l/ff461 -> id1243_1 ff466 lf471 -> id1346_0 ff473 lf478 -> id1135_1 ff479 -> id1378_0 ff481 lf482 -> id1220_1 ff483 lf506 -> id1346_0 ff508 lf509 -> id1341_0 ff510 lf544 \n",
    "#rb -  id19_0 ff0 lf40 ->id45_0 ff42 lf67 -> id130_0 ff69 lf76 -> id146_0 ff78 lf91 -> id186_0 ff94 lf97 -> id131 ff98 -> id45_0 ff99 ->id254_0 ff103 lf132 -> id393_0 ff142 lf148 -> id368_0 (id jogador outro msm equipa) ff150 lf216 -> id584 ff224 lf262 -> id661_0 ff266 lf284 -> id739_1 ff296 lf412 (este id está em constante troca entre 2 jogadores) -> id822 ff413 lf414 -> id763 ff415 lf416 -> id876 ff417 -> id604 ff419 -> id978_1 ff424 -> id931_0 ff425 -> id1083_0 ff429 lf453 -> id1093_1 ff454 -> id1268_0 ff461 -> id1296_0 ff464 -> id1309_0 ff466 lf1309 -> id1373 ff478 lf479 -> id1309 ff480 lf481 -> id1386_0 ff484 lf503 -> id1425 ff506 lf507 -> id1373_0 ff508 lf 509 -> id1372_1 ff510 lf517 -> id1425_0 f518 lf519 -> id1373_0 ff521 lf544   \n"
   ]
  },
  {
   "cell_type": "code",
   "execution_count": null,
   "id": "33d76b6e",
   "metadata": {},
   "outputs": [],
   "source": [
    "#TEAM 1 - Liverpool\n",
    "#gk: id22 lf51 ->id54 ltf57 ->id69 ltf62 ->id1099 ltf455 ->1174\n",
    "#cb1: id14 lf61-64 ->id121 ltf73-81 ->id163 ltf91-92 ->id187 ltf221-223 ->id576 ltf413-414 -> id936 ltf416-423 ->id658 ltf425-429 -> id1088 ltf453-460 ->id1266 ltf462-463 ->id1295 ltf475-477 ->id1371 ltf508-509 ->id1452 ltf511-516 -> id1480 ltf522 ->id1480\n",
    "#cb2: id11 lf61 ->id84 lf63-64->id118 lf91-96->id185 lf142->id248->id125 f206->id248 lf222->id575->f231 id248 lf419-429->id1086 lf453-458->id1230 lf476->id1366 lf485->id1383 lf509-511->id1462 lf531-532->id1505\n",
    "#rb: id3 lf49-> id48 lf51-52->id57 lf63->id111 lf98->id206 lf218->id550 lf230-232->id613 lf255->id643 lf257->id622 lf344-345->id786 lf347-354->id798 lf387->id845 lf421->id999 f422->id607 lf425-428->id1077 lf480->id1381 lf527->id1504\n",
    "#lb: id9 lf58->id71 lf61-65->id127 lf77-80->id162 lf86-90 ->id177 lf104-106->id284 lf132-147->id421 lf150-152->id432 lf159-167->id422 lf169-173->id465 f174 ->id393 lf178-187->id494 lf189->id495 f190->id474 191-204 ->id381 205-206 lf207 ->id534 208-213->id474 214 lf215->id541 216 lf217->id548 218-220->id381 f221->id503 f222 lf223-225->id581 lf240->id592 f241-242->id564 lf245->id585 lf248-251->id637 lf252->id641 lf265->id658 lf405-429->id1093 lf452-471->id1340 lf474-477->id1370\n",
    "\n",
    "#cdm: id6 0-40 -> id46 42-50 ->id53 52"
   ]
  },
  {
   "cell_type": "code",
   "execution_count": null,
   "id": "f3b03b58",
   "metadata": {},
   "outputs": [],
   "source": [
    "#drop extra ids\n",
    "#extreme cases:\n",
    "#frame 147 - see subs\n",
    "#frame 73 - see sideline referee\n",
    "\n",
    "#ids:\n",
    "#21,72,105,8,108,316,472,432,536,602,625,836,843,1102,1232,1347,1216,1496 - referee\n",
    "#682 - camera men\n",
    "#334,307,305,621,416,759,767,779,825,836,843,851,849,868,760,903 - sub \n",
    "#775,1128,1133,1121,964,887,814,775,416 - side line referee\n",
    "df = df.drop(columns=['x', 'y',...])"
   ]
  },
  {
   "cell_type": "markdown",
   "id": "504d6202",
   "metadata": {},
   "source": [
    "Random Walk / Interpolation of missing values"
   ]
  },
  {
   "cell_type": "code",
   "execution_count": null,
   "id": "64aa0159",
   "metadata": {},
   "outputs": [],
   "source": [
    "#todo\n"
   ]
  },
  {
   "cell_type": "markdown",
   "id": "4a581a67",
   "metadata": {},
   "source": [
    "Save Dataset"
   ]
  },
  {
   "cell_type": "code",
   "execution_count": null,
   "id": "c7cf251d",
   "metadata": {},
   "outputs": [],
   "source": [
    "#save new dataset to train folder\n"
   ]
  }
 ],
 "metadata": {
  "kernelspec": {
   "display_name": "Python 3",
   "language": "python",
   "name": "python3"
  },
  "language_info": {
   "codemirror_mode": {
    "name": "ipython",
    "version": 3
   },
   "file_extension": ".py",
   "mimetype": "text/x-python",
   "name": "python",
   "nbconvert_exporter": "python",
   "pygments_lexer": "ipython3",
   "version": "3.10.11"
  }
 },
 "nbformat": 4,
 "nbformat_minor": 5
}
