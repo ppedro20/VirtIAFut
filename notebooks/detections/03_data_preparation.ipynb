{
 "cells": [
  {
   "cell_type": "markdown",
   "id": "6e3fb4be",
   "metadata": {},
   "source": [
    "03. DATA PREPARATION"
   ]
  },
  {
   "cell_type": "code",
   "execution_count": null,
   "id": "a3144b39",
   "metadata": {},
   "outputs": [],
   "source": [
    "import pandas as pd\n",
    "import numpy as np\n",
    "\n",
    "filepath = '../../data/raw-coords/3-fullvideo.csv'\n",
    "\n",
    "df = pd.read_csv(filepath)\n",
    "\n",
    "df.columns"
   ]
  },
  {
   "cell_type": "code",
   "execution_count": 6,
   "id": "291e8d50",
   "metadata": {},
   "outputs": [],
   "source": [
    "#drop empty columns\n",
    "df = df.dropna(axis=1, how='all')"
   ]
  },
  {
   "cell_type": "markdown",
   "id": "b9aa8dc7",
   "metadata": {},
   "source": [
    "See Transitions of ids or detect ids of referees or other entities - manually\n",
    "\n",
    "- lf{x} - loses track on frame x\n",
    "\n",
    "ex: id2 lf14 -> id43 (id 2 loses track on frame 14 and becomes id 43)"
   ]
  },
  {
   "cell_type": "code",
   "execution_count": null,
   "id": "ea07350a",
   "metadata": {},
   "outputs": [],
   "source": [
    "#TEAM 0 - PSG\n"
   ]
  },
  {
   "cell_type": "code",
   "execution_count": null,
   "id": "33d76b6e",
   "metadata": {},
   "outputs": [],
   "source": [
    "#TEAM 1 - Liverpool\n",
    "#gk - id22 lf51 ->id54 ltf57 ->id69 ltf62 ->id1099 ltf455 ->1174\n",
    "#cb1 - id14 lf61-64 ->id121 ltf73-81 ->id163 ltf91-92 ->id187 ltf221-223 ->id576 ltf413-414 -> id936 ltf416-423 ->id658 ltf425-429 -> id1088 ltf453-460 ->id1266 ltf462-463 ->id1295 ltf475-477 ->id1371 ltf508-509 ->id1452 ltf511-516 -> id1480 ltf522 ->id1480\n",
    "\n",
    "#cb2- id11 lf61 ->id84 lf63-64->id118 lf91-96->id185 lf142->id248->id125 f206->id248 lf222->id575->f231 id248 lf419-429->id1086 lf453-458->id1230 lf476->id1366 lf485->id1383 lf509-511->id1462 lf531-532->id1505"
   ]
  },
  {
   "cell_type": "code",
   "execution_count": null,
   "id": "f3b03b58",
   "metadata": {},
   "outputs": [],
   "source": [
    "#drop extra ids\n",
    "#extreme cases:\n",
    "#frame 147 - see subs\n",
    "#frame 73 - see sideline referee\n",
    "\n",
    "#ids:\n",
    "#21,72,105,8,108,316,472,432,536,602,625,836,843,1102,1232,1347,1216,1496 - referee\n",
    "#682 - camera men\n",
    "#334,307,305,621,416,759,767,779,825,836,843,851,849,868,760,903 - sub \n",
    "#775,1128,1133,1121,964,887,814,775,416 - side line referee\n",
    "df = df.drop(columns=['x', 'y',...])"
   ]
  },
  {
   "cell_type": "markdown",
   "id": "504d6202",
   "metadata": {},
   "source": [
    "Random Walk / Interpolation of missing values"
   ]
  },
  {
   "cell_type": "code",
   "execution_count": null,
   "id": "64aa0159",
   "metadata": {},
   "outputs": [],
   "source": [
    "#todo"
   ]
  },
  {
   "cell_type": "markdown",
   "id": "4a581a67",
   "metadata": {},
   "source": [
    "Save Dataset"
   ]
  },
  {
   "cell_type": "code",
   "execution_count": null,
   "id": "c7cf251d",
   "metadata": {},
   "outputs": [],
   "source": [
    "#clean save\n",
    "df.to_csv(filepath, index=False)"
   ]
  }
 ],
 "metadata": {
  "kernelspec": {
   "display_name": "Python 3",
   "language": "python",
   "name": "python3"
  },
  "language_info": {
   "codemirror_mode": {
    "name": "ipython",
    "version": 3
   },
   "file_extension": ".py",
   "mimetype": "text/x-python",
   "name": "python",
   "nbconvert_exporter": "python",
   "pygments_lexer": "ipython3",
   "version": "3.10.11"
  }
 },
 "nbformat": 4,
 "nbformat_minor": 5
}
