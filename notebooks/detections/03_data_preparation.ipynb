{
 "cells": [
  {
   "cell_type": "markdown",
   "id": "6e3fb4be",
   "metadata": {},
   "source": [
    "03. DATA PREPARATION"
   ]
  },
  {
   "cell_type": "code",
   "execution_count": 85,
   "id": "a3144b39",
   "metadata": {},
   "outputs": [],
   "source": [
    "import pandas as pd\n",
    "import numpy as np\n",
    "\n",
    "filepath = '../../data/raw-coords/3-fullvideo.csv'\n",
    "\n",
    "traindf = '../data/train/train.csv'\n",
    "\n",
    "df = pd.read_csv(filepath)\n",
    "\n",
    "traindf = df"
   ]
  },
  {
   "cell_type": "code",
   "execution_count": 86,
   "id": "291e8d50",
   "metadata": {},
   "outputs": [],
   "source": [
    "#drop empty columns\n",
    "traindf = df.dropna(axis=1, how='all')"
   ]
  },
  {
   "cell_type": "markdown",
   "id": "b9aa8dc7",
   "metadata": {},
   "source": [
    "See Transitions of ids or detect ids of referees or other entities - manually"
   ]
  },
  {
   "cell_type": "markdown",
   "id": "f8a04630",
   "metadata": {},
   "source": [
    "Team 0 - PSG"
   ]
  },
  {
   "cell_type": "code",
   "execution_count": 87,
   "id": "aaaedd83",
   "metadata": {},
   "outputs": [],
   "source": [
    "#gk - id281_0 ff106 lf127 -> id268_1 lf130 -> 323_0 lf137 -> 281_0 lf181 -> 428_0 lf152 -> 524_0 ff-202 lf-230 -> 614_0 ff-233 lf-290 -> 725_0 ff-292 lf-401 -> 1074_1 ff-428 lf-433\n"
   ]
  },
  {
   "cell_type": "code",
   "execution_count": 88,
   "id": "565589d0",
   "metadata": {},
   "outputs": [],
   "source": [
    "#lb - id5_0 ff0 lf67 -> id129_0 ff69 lf92 -> id188_0 ff94 lf103 -> id270_0 ff105 lf133 -> id_365_0 ff138 lf194 -> id502_0 ff196 lf209 -> id537_0 ff212 lf230 ->id608_0 ff232 lf250 -> id639_0 ff252 lf263 -> id652_0 ff265 lf285 -> id652_0 ff287 lf305-309? (ver este frame pois o outro jogar fica com este id pq passaram \"um por cima do outro\") -> id765_0 ff310 lf392 -> id855_0 ff394 lf428 -> id1104_0 ff431 lf438 ->id1027_0 ff439 (falha no frame 443) lf451 -> id582_1 ff452 lf452 -> id1104_0 ff453 lf454 -> id1212_0 ff458 lf470 -> id1339_0 ff472 lf503 -> id1420_0 ff505 lf505 -> id1027_0 ff509 lf544\n"
   ]
  },
  {
   "cell_type": "code",
   "execution_count": 89,
   "id": "f83150e7",
   "metadata": {},
   "outputs": [],
   "source": [
    "#cb1 - id13_0 ff0 lf97  -> id255_0 ff103 lf132 -> id381_0 ff140 lf203 -> id528_0 ff205 lf211 -> id539_0 ff213 (216-219 fica noutra equipa) lf230 ->id381_0 ff232 lf264 -> id660_0 ff266 lf272 -> id381_0 ff273 lf290 -> id660_0 ff291 lf358 -> id809_0 ff373 lf408 (376-380 e 401  jogadores sobrepostos fica no da outra equipa) -> id869_1 ff409 lf419 -> id1028_0 ff424 lf428 -> id1094_0 ff430 lf452 -> id1252_0 ff460 lf470 -> id1341_0 l/ff472 -> id1349_0 ff474 lf479 -> id1379 ff481 lf482 -> id1392_0 l/ff485 -> id1396_0 l/ff488 -> id1402_0 ff491 lf494 -> id1396 ff496 -> id1379_0 ff496 lf499 -> id1402_0 ff503 lf507 -> id1448_0 ff509 lf517 -> id1402_0 ff518 lf544\n"
   ]
  },
  {
   "cell_type": "code",
   "execution_count": 90,
   "id": "00c30645",
   "metadata": {},
   "outputs": [],
   "source": [
    "#cb2 - id10_0 ff0 lf60 -> id99_0 ff63 lf68 -> id10 ff69 lf84 -> id70_1 ff 85 lf86 -> id172_0 ff88 lf95 -> id197_0 l/ff97 -> id226_0  l/ff100 -> id235_0 l/ff101 -> id247_0 ff103 lf132 (existem frames pelo meio que ele não apanha: ex 105) -> id387_0 ff141 lf150 -> id433_0 l/ff154 -> id437_0 ff156 lf173 -> id468_0 ff175 lf194 -> id503 ff197 lf220 -> id581_0 ff224 lf226 (226-228 jog equipa contraria fica com id) -> id604_0 ff229 lf296 -> id368_0 ff297 lf303 -> id604_0 ff304 lf376 -> id822_0 ff378 lf402 -> id876_0 l/ff404 -> id604_0 ff405 lf410 -> id931_0 ff414 lf418 (troca para jogador sobreposto) -> id1063_0 ff427 lf451 -> id1263_0 l/ff461 -> id1243_1 ff466 lf471 -> id1346_0 ff473 lf478 -> id1135_1 ff479 -> id1378_0 ff481 lf482 -> id1220_1 ff483 lf506 -> id1346_0 ff508 lf509 -> id1341_0 ff510 lf544 \n"
   ]
  },
  {
   "cell_type": "code",
   "execution_count": 91,
   "id": "4d34d5b0",
   "metadata": {},
   "outputs": [],
   "source": [
    "#rb -  id19_0 ff0 lf40 - id45_0 ff42 lf67 -> id130_0 ff69 lf76 -> id146_0 ff78 lf91 -> id186_0 ff94 lf97 -> id131 ff98 -> id45_0 ff99 ->id254_0 ff103 lf132 -> id393_0 ff142 lf148 -> id368_0 (id jogador outro msm equipa) ff150 lf216 -> id584 ff224 lf262 -> id661_0 ff266 lf284 -> id739_1 ff296 lf412 (este id está em constante troca entre 2 jogadores) -> id822 ff413 lf414 -> id763 ff415 lf416 -> id876 ff417 -> id604 ff419 -> id978_1 ff424 -> id931_0 ff425 -> id1083_0 ff429 lf453 -> id1093_1 ff454 -> id1268_0 ff461 -> id1296_0 ff464 -> id1309_0 ff466 lf1309 -> id1373 ff478 lf479 -> id1309 ff480 lf481 -> id1386_0 ff484 lf503 -> id1425 ff506 lf507 -> id1373_0 ff508 lf 509 -> id1372_1 ff510 lf517 -> id1425_0 f518 lf519 -> id1373_0 ff521 lf544\n"
   ]
  },
  {
   "cell_type": "code",
   "execution_count": 92,
   "id": "e5260a72",
   "metadata": {},
   "outputs": [],
   "source": [
    "#cm1 (vitinha) - id2_0 ff0 lf60 -> id108_0 ff64 lf97 -> id105 ff100 -> id256_0 ff103 lf132  -> id72_0 ff133 lf137 -> id367_0 ff138 lf143 -> id422_0 ff148 lf156 -> id392_1 ff157 lf158 -> id443_0 ff160 lf169 -> id474_0 ff178 -> id477_0 ff180 lf194  -> id468_0 ff198 -> id518_0 ff200 lf220 -> id580_0 ff224 -> id592_0 ff226 lf238 -> id581_0 ff240 -> id626_0 ff242 lf264 -> id657_0 ff266 lf270 -> id626_0 ff271 lf279 -> id657_0 ff280 lf281 -> id692_0 ff283 -> id700_0 ff286 -> id724_0 ff292 lf420 (334 e 335 para e volta no 336) -> id1027_0 ff424 lf429 -> id1103 ff431 lf452 -> id1249_0 ff460 lf492 (frame 469-471 para e volta) -> id1412_0 ff495 lf519 -> id1489_0 ff521 lf522 -> id1445_1 ff523  lf524 -> id1499_1 ff525 -> id1503_1 ff530 -> id1489_0 ff532 lf539 -> id1511_0 ff541 lf542 ->id1445_1 ff543 lf544\n"
   ]
  },
  {
   "cell_type": "code",
   "execution_count": 93,
   "id": "fa5fa819",
   "metadata": {},
   "outputs": [],
   "source": [
    "#cm2 (fabian ruiz) - id4_0 ff0 lf52 -> id63_0 ff55 -> id66_0 ff57 lf76 -> id147_0 ff78 lf97 (muda para jogador adver sobreposto) -> id264_0 ff103 lf104 -> id279_0 ff106 lf113 -> id264_0 (mudou de jogar adv sobreposto) ff116 lf121 -> id248_1 ff122 -> id306_0 ff125 lf217 -> id556_0 ff223 lf234 -> id393_0 ff235 -> id556_0 ff236 lf258 -> id544_1 ff259 lf261 -> id552_0 ff262 -> id671_0 ff269 lf302 -> id652_0 (ficou com o do comp de equipa) ff304 lf428 ->id1089_0 ff430 -> id582_1 ff432 -> id1116_0 ff434 lf453 -> id1238_0 ff459 lf530 -> id1507_0 ff534 lf543\n"
   ]
  },
  {
   "cell_type": "code",
   "execution_count": 94,
   "id": "0d3c8a02",
   "metadata": {},
   "outputs": [],
   "source": [
    "#cm3 (joao neves) - id16_0 ff0 lf10 -> id37_0 ff28 lf50 -> id61_0 ff55 lf67 -> id131_0 ff70 lf75 -> id61 ff76 lf77 -> id160_0 ff81 lf84 -> id45_0 ff89 -> id183_0 ff92 lf97 -> id257_0 ff103 lf127 -> id276_1 ff128 lf135 -> id368_0 ff138 lf149 (mudou para um comp de equipa) -> id434_0 ff154 lf163 -> id432_1 ff164 lf182 -> id486_0 ff184 -> id393_0 ff186 lf217 -> id432_1 ff218 -> id536_0 ff222 lf224 -> id597_0 ff227 lf263 -> id664_0 ff266 lf304 -> id760_0 ff307 lf401 -> id625_0 ff402 lf419 -> id984_0 ff421 -> id1011_0 ff423 lf429 -> id836_0 ff430 lf431 -> id1111_0 ff433 lf452 -> id1216_0 ff458 lf469 -> id1111_0 ff470 -> id1343_0 ff472 -> id1106_1 ff473 -> id1250_1 ff474 lf477 -> id1389_0 ff484 lf502 -> id1250_1 ff508 -> id1347_0 ff513 -> id1494_0 ff522 -> id1502_0 ff526 lf544                           \n"
   ]
  },
  {
   "cell_type": "code",
   "execution_count": 95,
   "id": "4fb1a4cc",
   "metadata": {},
   "outputs": [],
   "source": [
    "#st(dembele) - id17_0 ff0 lf58 -> id125_0 ff66 lf88 -> id17_0 ff89 lf91 -> id125_0 ff92 lf203 -> id543_0 ff216 lf219 -> id248_1 ff222 lf230 -> id607_0 ff232 lf422 -> id1073_0 ff428 lf456 -> id1310_0 ff466 -> id1320_0 ff468 lf473 -> id1376_0 ff480 -> id1383_0 ff482 -> id1310_0 ff487 lf521 -> id1495_0 ff523 lf544\n"
   ]
  },
  {
   "cell_type": "code",
   "execution_count": 96,
   "id": "45fdcea1",
   "metadata": {},
   "outputs": [],
   "source": [
    "#lw (kvara) - id1_0 ff0 lf68 -> id 132_0 ff70 -> id135_0 ff72 lf88 -> id176_0 ff90 lf98 -> id253_0 ff103 lf104 -> id275_0 ff106 lf128 -> id111_1 ff129 lf142 -> id404_0 ff144 lf217 -> id552_0 ff219 lf232 -> id596_1 ff235 lf243 -> id635_1 ff251 lf253 -> id544_1 ff254 lf255 -> id644_0 ff257 lf264 -> id596_1 ff265 lf281 -> id544_1 ff282 lf284 -> id656_1 ff285 lf286 -> id708_1 ff298 lf396 -> id859_0 ff398 lf411 ff416 lf429 -> id1101_0 ff431 lf451 -> id1306_0 ff466 lf544\n"
   ]
  },
  {
   "cell_type": "code",
   "execution_count": 97,
   "id": "ea07350a",
   "metadata": {},
   "outputs": [],
   "source": [
    "#rw (barcola) - id20_0 ff0 lf44 -> id47_0 ff46 lf80 -> id165_0 ff84 lf97 -> id258_0 ff103 lf104 -> id288_0 ff108 lf134 -> id357_0 ff137 lf164 -> id448_0 ff166 lf220 -> id577_0 ff224 lf264 -> id663_0 ff266 lf283 -> id696_0 ff85 -> id701_0 ff287 -> id709_0 ff289  -> id730_0 ff293 -> id741_0 ff296 -> id744 ff298 -> id750 ff300 lf429 -> id1098_0 ff431 lf453 -> id1234_0 ff459 lf475 -> id1368_0 ff478 lf540 -> id1452_1 ff541 lf544  \n",
    "  "
   ]
  },
  {
   "cell_type": "markdown",
   "id": "2abdf0dc",
   "metadata": {},
   "source": [
    "Team 1 - Liverpool"
   ]
  },
  {
   "cell_type": "code",
   "execution_count": 98,
   "id": "33d76b6e",
   "metadata": {},
   "outputs": [],
   "source": [
    "#gk alisson: id22 lf51 ->id54 ltf57 ->id69 ltf62 ->id1099 ltf455 ->1174\n",
    "df.loc[51:, 'id_22_team_1'] = df.loc[51:, 'id_54_team_1']\n",
    "df.loc[57:, 'id_22_team_1'] = df.loc[57:, 'id_69_team_1']\n",
    "df.loc[62:, 'id_22_team_1'] = df.loc[62:, 'id_1099_team_1']\n",
    "df.loc[455:, 'id_22_team_1'] = df.loc[455:, 'id_1174_team_1']"
   ]
  },
  {
   "cell_type": "code",
   "execution_count": 99,
   "id": "757fea4d",
   "metadata": {},
   "outputs": [],
   "source": [
    "#cb1 vdj: id14 lf61-64 ->id121 ltf73-81 ->id163 ltf91-92 ->id187 ltf221-223 ->id576 ltf413-414 -> id936 ltf416-423 ->\n",
    "#id658 ltf425-429 -> id1088 ltf453-460 ->id1266 ltf462-463 ->id1295 ltf475-477 ->id1371 ltf508-509 ->\n",
    "# id1452 ltf511-516 -> id1480 ltf522 ->id1480\n",
    "df.loc[64:, 'id_14_team_1'] = df.loc[64:, 'id_121_team_1']\n",
    "df.loc[81:, 'id_14_team_1'] = df.loc[81:, 'id_163_team_1']\n",
    "df.loc[92:, 'id_14_team_1'] = df.loc[92:, 'id_187_team_1']\n",
    "df.loc[223:, 'id_14_team_1'] = df.loc[223:, 'id_576_team_1']\n",
    "df.loc[414:, 'id_14_team_1'] = df.loc[414:, 'id_936_team_1']\n",
    "df.loc[423:, 'id_14_team_1'] = df.loc[423:, 'id_658_team_1']\n",
    "df.loc[429:, 'id_14_team_1'] = df.loc[429:, 'id_1088_team_1']\n",
    "df.loc[460:, 'id_14_team_1'] = df.loc[460:, 'id_1266_team_1']\n",
    "df.loc[463:, 'id_14_team_1'] = df.loc[463:, 'id_1295_team_1']\n",
    "df.loc[477:, 'id_14_team_1'] = df.loc[477:, 'id_1371_team_1']\n",
    "df.loc[509:, 'id_14_team_1'] = df.loc[509:, 'id_1452_team_1']\n",
    "df.loc[516:, 'id_14_team_1'] = df.loc[516:, 'id_1480_team_1']\n",
    "df.loc[522:, 'id_14_team_1'] = df.loc[522:, 'id_1480_team_1']"
   ]
  },
  {
   "cell_type": "code",
   "execution_count": 100,
   "id": "6cb36a6d",
   "metadata": {},
   "outputs": [],
   "source": [
    "#cb2 konate: id11 lf61 ->id84 lf63-64->id118 lf91-96->id185 lf142->id248->\n",
    "#id125 f206->id248 lf222->id575->f231 id248 lf419-429->id1086 lf453-458->id1230 lf476->\n",
    "#id1366 lf485->id1383 lf509-511->id1462 lf531-532->id1505\n",
    "df.loc[61:, 'id_11_team_1'] = df.loc[61:, 'id_84_team_1']\n",
    "df.loc[64:, 'id_11_team_1'] = df.loc[64:, 'id_118_team_1']\n",
    "df.loc[96:, 'id_11_team_1'] = df.loc[96:, 'id_185_team_1']\n",
    "df.loc[142:, 'id_11_team_1'] = df.loc[142:, 'id_248_team_1']\n",
    "df.loc[143, 'id_11_team_1'] = df.loc[143, 'id_125_team_0']\n",
    "df.loc[206:, 'id_11_team_1'] = df.loc[206:, 'id_248_team_1']\n",
    "df.loc[222:, 'id_11_team_1'] = df.loc[222:, 'id_575_team_1']\n",
    "df.loc[223, 'id_11_team_1'] = df.loc[223, 'id_248_team_1']\n",
    "df.loc[429:, 'id_11_team_1'] = df.loc[429:, 'id_1086_team_1']\n",
    "df.loc[458:, 'id_11_team_1'] = df.loc[458:, 'id_1230_team_1']\n",
    "df.loc[476:, 'id_11_team_1'] = df.loc[476:, 'id_1366_team_1']\n",
    "df.loc[485:, 'id_11_team_1'] = df.loc[485:, 'id_1383_team_0']\n",
    "df.loc[511:, 'id_11_team_1'] = df.loc[511:, 'id_1462_team_1']\n",
    "df.loc[532:, 'id_11_team_1'] = df.loc[532:, 'id_1505_team_1']"
   ]
  },
  {
   "cell_type": "code",
   "execution_count": 101,
   "id": "8d441d1d",
   "metadata": {},
   "outputs": [],
   "source": [
    "#rb tt: id3 lf49-> id48 lf51-52->id57 lf63->id111 lf98->id206 lf218->id550 lf230-232->id613 lf255->id643 lf257->id622 lf344-345->\n",
    "# id786 lf347-354->id798 lf387->id845 lf421->id999 f422->id607 lf425-428->id1077 lf480->id1381 lf527->id1504\n",
    "df.loc[49:, 'id_3_team_1'] = df.loc[49:, 'id_48_team_1']\n",
    "df.loc[52:, 'id_3_team_1'] = df.loc[52:, 'id_57_team_1']\n",
    "df.loc[63:, 'id_3_team_1'] = df.loc[63:, 'id_111_team_1']\n",
    "df.loc[98:, 'id_3_team_1'] = df.loc[98:, 'id_206_team_1']\n",
    "df.loc[218:, 'id_3_team_1'] = df.loc[218:, 'id_550_team_1']\n",
    "df.loc[232:, 'id_3_team_1'] = df.loc[232:, 'id_613_team_1']\n",
    "df.loc[255:, 'id_3_team_1'] = df.loc[255:, 'id_643_team_1']\n",
    "df.loc[257:, 'id_3_team_1'] = df.loc[257:, 'id_622_team_1']\n",
    "df.loc[345:, 'id_3_team_1'] = df.loc[345:, 'id_786_team_1']\n",
    "df.loc[354:, 'id_3_team_1'] = df.loc[354:, 'id_798_team_1']\n",
    "df.loc[387:, 'id_3_team_1'] = df.loc[387:, 'id_845_team_1']\n",
    "df.loc[421:, 'id_3_team_1'] = df.loc[421:, 'id_999_team_1']\n",
    "df.loc[422:, 'id_3_team_1'] = df.loc[422:, 'id_607_team_0']\n",
    "df.loc[428:, 'id_3_team_1'] = df.loc[428:, 'id_1077_team_1']\n",
    "df.loc[480:, 'id_3_team_1'] = df.loc[480:, 'id_1381_team_1']\n",
    "df.loc[527:, 'id_3_team_1'] = df.loc[527:, 'id_1504_team_1']"
   ]
  },
  {
   "cell_type": "code",
   "execution_count": 102,
   "id": "1eb50fe7",
   "metadata": {},
   "outputs": [],
   "source": [
    "#lb robo: id9 lf58->id71 lf61-65->id127 lf77-80->id162 lf86-90 ->id177 lf104-106->id284 lf132-147->id421 lf150-152->id432 lf159-167->\n",
    "# id422 lf169-173->id465 f174 ->id393 lf178-187->id494 lf189->id495 f190->id474 191-204 ->id381 205-206 lf207 ->\n",
    "# id534 208-213->id474 214 lf215->id541 216 lf217->id548 218-220->id381 f221->id503 f222 lf223-225->id581 lf240->id592 f241-242->\n",
    "# id564 lf245->id585 lf248-251->id637 lf252->id641 lf265->id658 lf405-429->id1093 lf452-471->id1340 lf474-477->id1370\n",
    "df.loc[58:, 'id_9_team_1'] = df.loc[58:, 'id_71_team_1']\n",
    "df.loc[65:, 'id_9_team_1'] = df.loc[65:, 'id_127_team_1']\n",
    "df.loc[80:, 'id_9_team_1'] = df.loc[80:, 'id_162_team_1']\n",
    "df.loc[90:, 'id_9_team_1'] = df.loc[90:, 'id_177_team_1']\n",
    "df.loc[106:, 'id_9_team_1'] = df.loc[106:, 'id_284_team_1']\n",
    "df.loc[147:, 'id_9_team_1'] = df.loc[147:, 'id_421_team_1']\n",
    "df.loc[152:, 'id_9_team_1'] = df.loc[152:, 'id_432_team_1']\n",
    "df.loc[167:, 'id_9_team_1'] = df.loc[167:, 'id_422_team_0']\n",
    "df.loc[173:, 'id_9_team_1'] = df.loc[173:, 'id_465_team_1']\n",
    "df.loc[174:, 'id_9_team_1'] = df.loc[174:, 'id_393_team_0']\n",
    "df.loc[187:, 'id_9_team_1'] = df.loc[187:, 'id_494_team_1']\n",
    "df.loc[189:, 'id_9_team_1'] = df.loc[189:, 'id_495_team_1']\n",
    "df.loc[190:, 'id_9_team_1'] = df.loc[190:, 'id_474_team_0']\n",
    "df.loc[204:, 'id_9_team_1'] = df.loc[204:, 'id_381_team_0']\n",
    "df.loc[207:, 'id_9_team_1'] = df.loc[207:, 'id_534_team_1']\n",
    "df.loc[213:, 'id_9_team_1'] = df.loc[213:, 'id_474_team_0']\n",
    "df.loc[215:, 'id_9_team_1'] = df.loc[215:, 'id_541_team_1']\n",
    "df.loc[217:, 'id_9_team_1'] = df.loc[217:, 'id_548_team_1']\n",
    "df.loc[220:, 'id_9_team_1'] = df.loc[220:, 'id_381_team_0']\n",
    "df.loc[221:, 'id_9_team_1'] = df.loc[221:, 'id_503_team_0']\n",
    "df.loc[225:, 'id_9_team_1'] = df.loc[225:, 'id_581_team_0']\n",
    "df.loc[240:, 'id_9_team_1'] = df.loc[240:, 'id_592_team_0']\n",
    "df.loc[242:, 'id_9_team_1'] = df.loc[242:, 'id_564_team_1']\n",
    "df.loc[245:, 'id_9_team_1'] = df.loc[245:, 'id_585_team_1']\n",
    "df.loc[251:, 'id_9_team_1'] = df.loc[251:, 'id_637_team_1']\n",
    "df.loc[252:, 'id_9_team_1'] = df.loc[252:, 'id_641_team_1']\n",
    "df.loc[265:, 'id_9_team_1'] = df.loc[265:, 'id_658_team_1']\n",
    "df.loc[429:, 'id_9_team_1'] = df.loc[429:, 'id_1093_team_1']\n",
    "df.loc[471:, 'id_9_team_1'] = df.loc[471:, 'id_1340_team_1']\n",
    "df.loc[477:, 'id_9_team_1'] = df.loc[477:, 'id_1370_team_1']"
   ]
  },
  {
   "cell_type": "code",
   "execution_count": 103,
   "id": "e5481cac",
   "metadata": {},
   "outputs": [],
   "source": [
    "#cm grav: id6 0-40 -> id46 42-50 ->id53 52-> id101 63-85 -> id101 93-94 ->id160 95 ->id61 97->id47 100->id267 104->id276 106-111->\n",
    "# id267 112-128->id315 130-134->id257 135-136->id276 137-153->id436 155-220->id582 224-428->id1106 432-452->\n",
    "# id1198 457->id1250 460-470->id1198 471->id1344 473-483->id1390 485-489->id1249 493-504->id1445 509-522->id1503 526 528-529 532-544\n",
    "df.loc[0:40, 'id_6_team_1'] = df.loc[0:40, 'id_6_team_1']\n",
    "df.loc[42:50, 'id_6_team_1'] = df.loc[42:50, 'id_46_team_1']\n",
    "df.loc[52, 'id_6_team_1'] = df.loc[52, 'id_53_team_1']\n",
    "df.loc[63:85, 'id_6_team_1'] = df.loc[63:85, 'id_101_team_1']\n",
    "df.loc[93:94, 'id_6_team_1'] = df.loc[93:94, 'id_101_team_1']\n",
    "df.loc[95, 'id_6_team_1'] = df.loc[95, 'id_160_team_0']\n",
    "df.loc[97, 'id_6_team_1'] = df.loc[97, 'id_61_team_0']\n",
    "df.loc[100, 'id_6_team_1'] = df.loc[100, 'id_47_team_0']\n",
    "df.loc[104, 'id_6_team_1'] = df.loc[104, 'id_267_team_1']\n",
    "df.loc[106:111, 'id_6_team_1'] = df.loc[106:111, 'id_276_team_1']\n",
    "df.loc[112:128, 'id_6_team_1'] = df.loc[112:128, 'id_267_team_1']\n",
    "df.loc[130:134, 'id_6_team_1'] = df.loc[130:134, 'id_315_team_1']\n",
    "df.loc[135:136, 'id_6_team_1'] = df.loc[135:136, 'id_257_team_0']\n",
    "df.loc[137:153, 'id_6_team_1'] = df.loc[137:153, 'id_276_team_1']\n",
    "df.loc[155:220, 'id_6_team_1'] = df.loc[155:220, 'id_436_team_1']\n",
    "df.loc[224:428, 'id_6_team_1'] = df.loc[224:428, 'id_582_team_1']\n",
    "df.loc[432:452, 'id_6_team_1'] = df.loc[432:452, 'id_1106_team_1']\n",
    "df.loc[457, 'id_6_team_1'] = df.loc[457, 'id_1198_team_1']\n",
    "df.loc[460:470, 'id_6_team_1'] = df.loc[460:470, 'id_1250_team_1']\n",
    "df.loc[471, 'id_6_team_1'] = df.loc[471, 'id_1198_team_1']\n",
    "df.loc[473:483, 'id_6_team_1'] = df.loc[473:483, 'id_1344_team_1']\n",
    "df.loc[485:489, 'id_6_team_1'] = df.loc[485:489, 'id_1390_team_1']\n",
    "df.loc[493:504, 'id_6_team_1'] = df.loc[493:504, 'id_1249_team_0']\n",
    "df.loc[509:522, 'id_6_team_1'] = df.loc[509:522, 'id_1445_team_1']\n",
    "df.loc[526, 'id_6_team_1'] = df.loc[526, 'id_1503_team_1']\n",
    "df.loc[528:529, 'id_6_team_1'] = df.loc[528:529, 'id_1503_team_1']\n",
    "df.loc[532:544, 'id_6_team_1'] = df.loc[532:544, 'id_1503_team_1']"
   ]
  },
  {
   "cell_type": "code",
   "execution_count": 104,
   "id": "25c3570a",
   "metadata": {},
   "outputs": [],
   "source": [
    "#cm mc: id12 0-9 11-14->id16 15-57->id81 61->id97 63-93->id147 98-99->id225 100->id234 101->id248 102->id264 110-115 122-123->id176 124->\n",
    "# id248 125-131->id326 133-142->id402 144-146->id185 147->id402 148-215->id544 217-221->id578 224-244->id544 247-248->id635 250 252->\n",
    "# id644 258->id648 262-273->id635 276-277->id650 278->id656 279->id639 280->id708 289-297->id753 301-376->id823 378-427->\n",
    "# id1100 431-452->id582 455->id1027 456->id1104 458->id1337 472-475->id1369 478-531->id1506 533-534 537-541->id1238 542\n",
    "df.loc[0:9, 'id_12_team_1'] = df.loc[0:9, 'id_12_team_1']\n",
    "df.loc[11:14, 'id_12_team_1'] = df.loc[11:14, 'id_12_team_1']\n",
    "df.loc[15:57, 'id_12_team_1'] = df.loc[15:57, 'id_16_team_0']\n",
    "df.loc[61, 'id_12_team_1'] = df.loc[61, 'id_81_team_1']\n",
    "df.loc[63:93, 'id_12_team_1'] = df.loc[63:93, 'id_97_team_1']\n",
    "df.loc[98:99, 'id_12_team_1'] = df.loc[98:99, 'id_147_team_0']\n",
    "df.loc[100, 'id_12_team_1'] = df.loc[100, 'id_225_team_1']\n",
    "df.loc[101, 'id_12_team_1'] = df.loc[101, 'id_234_team_1']\n",
    "df.loc[102, 'id_12_team_1'] = df.loc[102, 'id_248_team_1']\n",
    "df.loc[110:115, 'id_12_team_1'] = df.loc[110:115, 'id_264_team_0']\n",
    "df.loc[122:123, 'id_12_team_1'] = df.loc[122:123, 'id_264_team_0']\n",
    "df.loc[124, 'id_12_team_1'] = df.loc[124, 'id_176_team_0']\n",
    "df.loc[125:131, 'id_12_team_1'] = df.loc[125:131, 'id_248_team_1']\n",
    "df.loc[133:142, 'id_12_team_1'] = df.loc[133:142, 'id_326_team_1']\n",
    "df.loc[144:146, 'id_12_team_1'] = df.loc[144:146, 'id_402_team_1']\n",
    "df.loc[147, 'id_12_team_1'] = df.loc[147, 'id_185_team_1']\n",
    "df.loc[148:215, 'id_12_team_1'] = df.loc[148:215, 'id_402_team_1']\n",
    "df.loc[217:221, 'id_12_team_1'] = df.loc[217:221, 'id_544_team_1']\n",
    "df.loc[224:244, 'id_12_team_1'] = df.loc[224:244, 'id_578_team_1']\n",
    "df.loc[247:248, 'id_12_team_1'] = df.loc[247:248, 'id_544_team_1']\n",
    "df.loc[250, 'id_12_team_1'] = df.loc[250, 'id_635_team_1']\n",
    "df.loc[258, 'id_12_team_1'] = df.loc[258, 'id_644_team_0']\n",
    "df.loc[262:273, 'id_12_team_1'] = df.loc[262:273, 'id_648_team_1']\n",
    "df.loc[276:277, 'id_12_team_1'] = df.loc[276:277, 'id_635_team_1']\n",
    "df.loc[278, 'id_12_team_1'] = df.loc[278, 'id_650_team_1']\n",
    "df.loc[279, 'id_12_team_1'] = df.loc[279, 'id_656_team_1']\n",
    "df.loc[280, 'id_12_team_1'] = df.loc[280, 'id_639_team_0']\n",
    "df.loc[289:297, 'id_12_team_1'] = df.loc[289:297, 'id_708_team_1']\n",
    "df.loc[301:376, 'id_12_team_1'] = df.loc[301:376, 'id_753_team_1']\n",
    "df.loc[378:427, 'id_12_team_1'] = df.loc[378:427, 'id_823_team_1']\n",
    "df.loc[431:452, 'id_12_team_1'] = df.loc[431:452, 'id_1100_team_1']\n",
    "df.loc[455, 'id_12_team_1'] = df.loc[455, 'id_582_team_1']\n",
    "df.loc[456, 'id_12_team_1'] = df.loc[456, 'id_1027_team_0']\n",
    "df.loc[458, 'id_12_team_1'] = df.loc[458, 'id_1104_team_0']\n",
    "df.loc[472:475, 'id_12_team_1'] = df.loc[472:475, 'id_1337_team_1']\n",
    "df.loc[478:531, 'id_12_team_1'] = df.loc[478:531, 'id_1369_team_1']\n",
    "df.loc[533:534, 'id_12_team_1'] = df.loc[533:534, 'id_1506_team_1']\n",
    "df.loc[537:541, 'id_12_team_1'] = df.loc[537:541, 'id_1506_team_1']\n",
    "df.loc[542, 'id_12_team_1'] = df.loc[542, 'id_1238_team_0']"
   ]
  },
  {
   "cell_type": "code",
   "execution_count": 105,
   "id": "20d172ad",
   "metadata": {},
   "outputs": [],
   "source": [
    "#cam szobo: id8 0-60->id106 64-92->id252 103-206->id502 210-214->id539 217-219->id402 225->id596 227-234->id622 237-241 244-245->id596 246-260->id650 264->\n",
    "# id656 265->id667 267-346->id789 348-410->id859 412-414->id945 416-428->id1090 430-454->id1197 457->id1350 474-544\n",
    "df.loc[64:92, 'id_8_team_1'] = df.loc[64:92, 'id_106_team_1']\n",
    "df.loc[103:206, 'id_8_team_1'] = df.loc[103:206, 'id_252_team_1']\n",
    "df.loc[210:214, 'id_8_team_1'] = df.loc[210:214, 'id_502_team_0']\n",
    "df.loc[217:219, 'id_8_team_1'] = df.loc[217:219, 'id_539_team_0']\n",
    "df.loc[225, 'id_8_team_1'] = df.loc[225, 'id_402_team_1']\n",
    "df.loc[227:234, 'id_8_team_1'] = df.loc[227:234, 'id_596_team_1']\n",
    "df.loc[237:241, 'id_8_team_1'] = df.loc[237:241, 'id_622_team_1']\n",
    "df.loc[244:245, 'id_8_team_1'] = df.loc[244:245, 'id_622_team_1']\n",
    "df.loc[246:260, 'id_8_team_1'] = df.loc[246:260, 'id_596_team_1']\n",
    "df.loc[264, 'id_8_team_1'] = df.loc[264, 'id_650_team_1']\n",
    "df.loc[265, 'id_8_team_1'] = df.loc[265, 'id_656_team_1']\n",
    "df.loc[267:436, 'id_8_team_1'] = df.loc[267:436, 'id_667_team_1']\n",
    "df.loc[348:410, 'id_8_team_1'] = df.loc[348:410, 'id_789_team_1']\n",
    "df.loc[412:414, 'id_8_team_1'] = df.loc[412:414, 'id_859_team_0']\n",
    "df.loc[416:428, 'id_8_team_1'] = df.loc[416:428, 'id_945_team_1']\n",
    "df.loc[430:454, 'id_8_team_1'] = df.loc[430:454, 'id_1090_team_1']\n",
    "df.loc[457, 'id_8_team_1'] = df.loc[457, 'id_1197_team_1']\n",
    "df.loc[474:544, 'id_8_team_1'] = df.loc[474:544, 'id_1350_team_1']"
   ]
  },
  {
   "cell_type": "code",
   "execution_count": 106,
   "id": "faab1414",
   "metadata": {},
   "outputs": [],
   "source": [
    "#lw diaz: id15 0-56->id70 59->id124 66-82->id167 85->id10 86->id70 87-89->id268 104-120->id172 121-126->id322 132-165->id367 166->id496 191-219->id598 227-263->\n",
    "# id662 266-401->id883 406-418->id1095 430-449->id1138 451-452->id1315 467-475->id1372 478-506->id1446 509-519->id1490 521-544\n",
    "df.loc[59, 'id_15_team_1'] = df.loc[59, 'id_70_team_1']\n",
    "df.loc[66:82, 'id_15_team_1'] = df.loc[66:82, 'id_124_team_1']\n",
    "df.loc[85, 'id_15_team_1'] = df.loc[85, 'id_167_team_1']\n",
    "df.loc[86, 'id_15_team_1'] = df.loc[86, 'id_10_team_0']\n",
    "df.loc[87:89, 'id_15_team_1'] = df.loc[87:89, 'id_70_team_1']\n",
    "df.loc[104:120, 'id_15_team_1'] = df.loc[104:120, 'id_268_team_1']\n",
    "df.loc[121:126, 'id_15_team_1'] = df.loc[121:126, 'id_172_team_0']\n",
    "df.loc[132:165, 'id_15_team_1'] = df.loc[132:165, 'id_322_team_1']\n",
    "df.loc[166, 'id_15_team_1'] = df.loc[166, 'id_367_team_0']\n",
    "df.loc[191:219, 'id_15_team_1'] = df.loc[191:219, 'id_496_team_1']\n",
    "df.loc[227:263, 'id_15_team_1'] = df.loc[227:263, 'id_598_team_1']\n",
    "df.loc[266:401, 'id_15_team_1'] = df.loc[266:401, 'id_662_team_1']\n",
    "df.loc[406:418, 'id_15_team_1'] = df.loc[406:418, 'id_883_team_1']\n",
    "df.loc[430:449, 'id_15_team_1'] = df.loc[430:449, 'id_1095_team_1']\n",
    "df.loc[451:452, 'id_15_team_1'] = df.loc[451:452, 'id_1138_team_1']\n",
    "df.loc[467:475, 'id_15_team_1'] = df.loc[467:475, 'id_1315_team_1']\n",
    "df.loc[478:506, 'id_15_team_1'] = df.loc[478:506, 'id_1372_team_1']\n",
    "df.loc[509:519, 'id_15_team_1'] = df.loc[509:519, 'id_1446_team_1']\n",
    "df.loc[521:544, 'id_15_team_1'] = df.loc[521:544, 'id_1490_team_1']"
   ]
  },
  {
   "cell_type": "code",
   "execution_count": 107,
   "id": "0640ab82",
   "metadata": {},
   "outputs": [],
   "source": [
    "#rw salah: id7 0-92->id191 95-103->id269 105-134->id363 138-206 208-209->id535 211-221->id404 222->id590 225-264->id668 267-278->id687 280-288->id720 291->\n",
    "# id728 293-309->id656 310-335 338-375->id809 376-380->id841 386-400->id869 403->id724 406->id1060 427-453->id1100 454->id582 456->id1027 458->\n",
    "# id1104 460-461->id1307 466-472->id1348 474-487->id1398 489-518->id1485 520-524 527-544\n",
    "df.loc[95:103, 'id_7_team_1'] = df.loc[95:103, 'id_191_team_1']\n",
    "df.loc[105:134, 'id_7_team_1'] = df.loc[105:134, 'id_269_team_1']\n",
    "df.loc[138:206, 'id_7_team_1'] = df.loc[138:206, 'id_363_team_1']\n",
    "df.loc[208:209, 'id_7_team_1'] = df.loc[208:209, 'id_363_team_1']\n",
    "df.loc[211:221, 'id_7_team_1'] = df.loc[211:221, 'id_535_team_1']\n",
    "df.loc[222, 'id_7_team_1'] = df.loc[222, 'id_404_team_0']\n",
    "df.loc[225:264, 'id_7_team_1'] = df.loc[225:264, 'id_590_team_1']\n",
    "df.loc[267:278, 'id_7_team_1'] = df.loc[267:278, 'id_668_team_1']\n",
    "df.loc[280:288, 'id_7_team_1'] = df.loc[280:288, 'id_687_team_1']\n",
    "df.loc[291, 'id_7_team_1'] = df.loc[291, 'id_720_team_1']\n",
    "df.loc[293:309, 'id_7_team_1'] = df.loc[293:309, 'id_728_team_1']\n",
    "df.loc[310:335, 'id_7_team_1'] = df.loc[310:335, 'id_656_team_1']\n",
    "df.loc[338:375, 'id_7_team_1'] = df.loc[338:375, 'id_809_team_0']\n",
    "df.loc[386:400, 'id_7_team_1'] = df.loc[386:400, 'id_841_team_1']\n",
    "df.loc[403, 'id_7_team_1'] = df.loc[403, 'id_869_team_1']\n",
    "df.loc[406, 'id_7_team_1'] = df.loc[406, 'id_724_team_0']\n",
    "df.loc[427:453, 'id_7_team_1'] = df.loc[427:453, 'id_1060_team_1']\n",
    "df.loc[454, 'id_7_team_1'] = df.loc[454, 'id_1100_team_1']\n",
    "df.loc[456, 'id_7_team_1'] = df.loc[456, 'id_582_team_1']\n",
    "df.loc[458, 'id_7_team_1'] = df.loc[458, 'id_1027_team_0']\n",
    "df.loc[460:461, 'id_7_team_1'] = df.loc[460:461, 'id_1104_team_0']\n",
    "df.loc[466:472, 'id_7_team_1'] = df.loc[466:472, 'id_1307_team_1']\n",
    "df.loc[474:487, 'id_7_team_1'] = df.loc[474:487, 'id_1348_team_1']\n",
    "df.loc[489:518, 'id_7_team_1'] = df.loc[489:518, 'id_1398_team_1']\n",
    "df.loc[520:524, 'id_7_team_1'] = df.loc[520:524, 'id_1485_team_1']\n",
    "df.loc[527:544, 'id_7_team_1'] = df.loc[527:544, 'id_1485_team_1']"
   ]
  },
  {
   "cell_type": "code",
   "execution_count": 108,
   "id": "01c640ea",
   "metadata": {},
   "outputs": [],
   "source": [
    "#st jota: id18 0-57->id126 66-96->id72 103-111->id105 112-140->id392 142-155->id438 157-177->id433 184-196->id532 206-213 217->id368 221->id564 222->id585 224-230->\n",
    "# id368 231-271->id676 274-283 285-293->id739 295 ->id746 298-305->id763 309-314 317-324 327-329 334-408->id822 409->id876 411->id604 413->id931 419->id978 420->\n",
    "# id1081 429-447->id931 448->id1135 450-452->id1143 453->id1157 454->id1191 456->id1207 457->id1220 458->id1243 459-461->\n",
    "# id1263 462-475->id1367 478-488->id1341 490->id1349 495-496->id1392 497-503->id1458 511->id1389 513-514->id1479 517-544\n",
    "df.loc[66:96, 'id_18_team_1'] = df.loc[66:96, 'id_126_team_1']\n",
    "df.loc[103:111, 'id_18_team_1'] = df.loc[103:111, 'id_72_team_0']\n",
    "df.loc[112:140, 'id_18_team_1'] = df.loc[112:140, 'id_105_team_0']\n",
    "df.loc[142:155, 'id_18_team_1'] = df.loc[142:155, 'id_392_team_1']\n",
    "df.loc[157:177, 'id_18_team_1'] = df.loc[157:177, 'id_438_team_1']\n",
    "df.loc[184:196, 'id_18_team_1'] = df.loc[184:196, 'id_433_team_0']\n",
    "df.loc[206:213, 'id_18_team_1'] = df.loc[206:213, 'id_532_team_1']\n",
    "df.loc[217, 'id_18_team_1'] = df.loc[217, 'id_532_team_1']\n",
    "df.loc[221, 'id_18_team_1'] = df.loc[221, 'id_368_team_0']\n",
    "df.loc[222, 'id_18_team_1'] = df.loc[222, 'id_564_team_1']\n",
    "df.loc[224:230, 'id_18_team_1'] = df.loc[224:230, 'id_585_team_1']\n",
    "df.loc[231:271, 'id_18_team_1'] = df.loc[231:271, 'id_368_team_0']\n",
    "df.loc[274:283, 'id_18_team_1'] = df.loc[274:283, 'id_676_team_1']\n",
    "df.loc[285:293, 'id_18_team_1'] = df.loc[285:293, 'id_676_team_1']\n",
    "df.loc[295, 'id_18_team_1'] = df.loc[295, 'id_739_team_1']\n",
    "df.loc[298:305, 'id_18_team_1'] = df.loc[298:305, 'id_746_team_1']\n",
    "df.loc[309:314, 'id_18_team_1'] = df.loc[309:314, 'id_763_team_1']\n",
    "df.loc[317:324, 'id_18_team_1'] = df.loc[317:324, 'id_763_team_1']\n",
    "df.loc[327:329, 'id_18_team_1'] = df.loc[327:329, 'id_763_team_1']\n",
    "df.loc[334:408, 'id_18_team_1'] = df.loc[334:408, 'id_763_team_1']\n",
    "df.loc[409, 'id_18_team_1'] = df.loc[409, 'id_822_team_0']\n",
    "df.loc[411, 'id_18_team_1'] = df.loc[411, 'id_876_team_0']\n",
    "df.loc[413, 'id_18_team_1'] = df.loc[413, 'id_604_team_0']\n",
    "df.loc[419, 'id_18_team_1'] = df.loc[419, 'id_931_team_0']\n",
    "df.loc[420, 'id_18_team_1'] = df.loc[420, 'id_978_team_1']\n",
    "df.loc[429:447, 'id_18_team_1'] = df.loc[429:447, 'id_1081_team_1']\n",
    "df.loc[448, 'id_18_team_1'] = df.loc[448, 'id_931_team_0']\n",
    "df.loc[450:452, 'id_18_team_1'] = df.loc[450:452, 'id_1135_team_1']\n",
    "df.loc[453, 'id_18_team_1'] = df.loc[453, 'id_1143_team_1']\n",
    "df.loc[454, 'id_18_team_1'] = df.loc[454, 'id_1157_team_1']\n",
    "df.loc[456, 'id_18_team_1'] = df.loc[456, 'id_1191_team_1']\n",
    "df.loc[457, 'id_18_team_1'] = df.loc[457, 'id_1207_team_1']\n",
    "df.loc[458, 'id_18_team_1'] = df.loc[458, 'id_1220_team_1']\n",
    "df.loc[459:461, 'id_18_team_1'] = df.loc[459:461, 'id_1243_team_1']\n",
    "df.loc[462:475, 'id_18_team_1'] = df.loc[462:475, 'id_1263_team_0']\n",
    "df.loc[478:488, 'id_18_team_1'] = df.loc[478:488, 'id_1367_team_1']\n",
    "df.loc[490, 'id_18_team_1'] = df.loc[490, 'id_1341_team_0']\n",
    "df.loc[495:496, 'id_18_team_1'] = df.loc[495:496, 'id_1349_team_0']\n",
    "df.loc[497:503, 'id_18_team_1'] = df.loc[497:503, 'id_1392_team_0']\n",
    "df.loc[511, 'id_18_team_1'] = df.loc[511, 'id_1458_team_1']\n",
    "df.loc[513:514, 'id_18_team_1'] = df.loc[513:514, 'id_1389_team_0']\n",
    "df.loc[517:544, 'id_18_team_1'] = df.loc[517:544, 'id_1479_team_1']"
   ]
  },
  {
   "cell_type": "code",
   "execution_count": 109,
   "id": "4d582c30",
   "metadata": {},
   "outputs": [],
   "source": [
    "#drop extra columns \n",
    "#df = df.drop(columns=['id_54_team_1','id_69_team_1','id_1099_team_1','id_1174_team_1'])"
   ]
  },
  {
   "cell_type": "code",
   "execution_count": 110,
   "id": "f3b03b58",
   "metadata": {},
   "outputs": [
    {
     "ename": "KeyError",
     "evalue": "\"['x', 'y', Ellipsis] not found in axis\"",
     "output_type": "error",
     "traceback": [
      "\u001b[1;31m---------------------------------------------------------------------------\u001b[0m",
      "\u001b[1;31mKeyError\u001b[0m                                  Traceback (most recent call last)",
      "Cell \u001b[1;32mIn[110], line 11\u001b[0m\n\u001b[0;32m      1\u001b[0m \u001b[38;5;66;03m#drop extra ids\u001b[39;00m\n\u001b[0;32m      2\u001b[0m \u001b[38;5;66;03m#extreme cases:\u001b[39;00m\n\u001b[0;32m      3\u001b[0m \u001b[38;5;66;03m#frame 147 - see subs\u001b[39;00m\n\u001b[1;32m   (...)\u001b[0m\n\u001b[0;32m      9\u001b[0m \u001b[38;5;66;03m#334,307,305,621,416,759,767,779,825,836,843,851,849,868,760,903 - sub \u001b[39;00m\n\u001b[0;32m     10\u001b[0m \u001b[38;5;66;03m#775,1128,1133,1121,964,887,814,775,416 - side line referee\u001b[39;00m\n\u001b[1;32m---> 11\u001b[0m df \u001b[38;5;241m=\u001b[39m \u001b[43mdf\u001b[49m\u001b[38;5;241;43m.\u001b[39;49m\u001b[43mdrop\u001b[49m\u001b[43m(\u001b[49m\u001b[43mcolumns\u001b[49m\u001b[38;5;241;43m=\u001b[39;49m\u001b[43m[\u001b[49m\u001b[38;5;124;43m'\u001b[39;49m\u001b[38;5;124;43mx\u001b[39;49m\u001b[38;5;124;43m'\u001b[39;49m\u001b[43m,\u001b[49m\u001b[43m \u001b[49m\u001b[38;5;124;43m'\u001b[39;49m\u001b[38;5;124;43my\u001b[39;49m\u001b[38;5;124;43m'\u001b[39;49m\u001b[43m,\u001b[49m\u001b[38;5;241;43m.\u001b[39;49m\u001b[38;5;241;43m.\u001b[39;49m\u001b[38;5;241;43m.\u001b[39;49m\u001b[43m]\u001b[49m\u001b[43m)\u001b[49m\n",
      "File \u001b[1;32mc:\\Users\\pedro\\AppData\\Local\\Programs\\Python\\Python310\\lib\\site-packages\\pandas\\core\\frame.py:5581\u001b[0m, in \u001b[0;36mDataFrame.drop\u001b[1;34m(self, labels, axis, index, columns, level, inplace, errors)\u001b[0m\n\u001b[0;32m   5433\u001b[0m \u001b[38;5;28;01mdef\u001b[39;00m\u001b[38;5;250m \u001b[39m\u001b[38;5;21mdrop\u001b[39m(\n\u001b[0;32m   5434\u001b[0m     \u001b[38;5;28mself\u001b[39m,\n\u001b[0;32m   5435\u001b[0m     labels: IndexLabel \u001b[38;5;241m|\u001b[39m \u001b[38;5;28;01mNone\u001b[39;00m \u001b[38;5;241m=\u001b[39m \u001b[38;5;28;01mNone\u001b[39;00m,\n\u001b[1;32m   (...)\u001b[0m\n\u001b[0;32m   5442\u001b[0m     errors: IgnoreRaise \u001b[38;5;241m=\u001b[39m \u001b[38;5;124m\"\u001b[39m\u001b[38;5;124mraise\u001b[39m\u001b[38;5;124m\"\u001b[39m,\n\u001b[0;32m   5443\u001b[0m ) \u001b[38;5;241m-\u001b[39m\u001b[38;5;241m>\u001b[39m DataFrame \u001b[38;5;241m|\u001b[39m \u001b[38;5;28;01mNone\u001b[39;00m:\n\u001b[0;32m   5444\u001b[0m \u001b[38;5;250m    \u001b[39m\u001b[38;5;124;03m\"\"\"\u001b[39;00m\n\u001b[0;32m   5445\u001b[0m \u001b[38;5;124;03m    Drop specified labels from rows or columns.\u001b[39;00m\n\u001b[0;32m   5446\u001b[0m \n\u001b[1;32m   (...)\u001b[0m\n\u001b[0;32m   5579\u001b[0m \u001b[38;5;124;03m            weight  1.0     0.8\u001b[39;00m\n\u001b[0;32m   5580\u001b[0m \u001b[38;5;124;03m    \"\"\"\u001b[39;00m\n\u001b[1;32m-> 5581\u001b[0m     \u001b[38;5;28;01mreturn\u001b[39;00m \u001b[38;5;28;43msuper\u001b[39;49m\u001b[43m(\u001b[49m\u001b[43m)\u001b[49m\u001b[38;5;241;43m.\u001b[39;49m\u001b[43mdrop\u001b[49m\u001b[43m(\u001b[49m\n\u001b[0;32m   5582\u001b[0m \u001b[43m        \u001b[49m\u001b[43mlabels\u001b[49m\u001b[38;5;241;43m=\u001b[39;49m\u001b[43mlabels\u001b[49m\u001b[43m,\u001b[49m\n\u001b[0;32m   5583\u001b[0m \u001b[43m        \u001b[49m\u001b[43maxis\u001b[49m\u001b[38;5;241;43m=\u001b[39;49m\u001b[43maxis\u001b[49m\u001b[43m,\u001b[49m\n\u001b[0;32m   5584\u001b[0m \u001b[43m        \u001b[49m\u001b[43mindex\u001b[49m\u001b[38;5;241;43m=\u001b[39;49m\u001b[43mindex\u001b[49m\u001b[43m,\u001b[49m\n\u001b[0;32m   5585\u001b[0m \u001b[43m        \u001b[49m\u001b[43mcolumns\u001b[49m\u001b[38;5;241;43m=\u001b[39;49m\u001b[43mcolumns\u001b[49m\u001b[43m,\u001b[49m\n\u001b[0;32m   5586\u001b[0m \u001b[43m        \u001b[49m\u001b[43mlevel\u001b[49m\u001b[38;5;241;43m=\u001b[39;49m\u001b[43mlevel\u001b[49m\u001b[43m,\u001b[49m\n\u001b[0;32m   5587\u001b[0m \u001b[43m        \u001b[49m\u001b[43minplace\u001b[49m\u001b[38;5;241;43m=\u001b[39;49m\u001b[43minplace\u001b[49m\u001b[43m,\u001b[49m\n\u001b[0;32m   5588\u001b[0m \u001b[43m        \u001b[49m\u001b[43merrors\u001b[49m\u001b[38;5;241;43m=\u001b[39;49m\u001b[43merrors\u001b[49m\u001b[43m,\u001b[49m\n\u001b[0;32m   5589\u001b[0m \u001b[43m    \u001b[49m\u001b[43m)\u001b[49m\n",
      "File \u001b[1;32mc:\\Users\\pedro\\AppData\\Local\\Programs\\Python\\Python310\\lib\\site-packages\\pandas\\core\\generic.py:4788\u001b[0m, in \u001b[0;36mNDFrame.drop\u001b[1;34m(self, labels, axis, index, columns, level, inplace, errors)\u001b[0m\n\u001b[0;32m   4786\u001b[0m \u001b[38;5;28;01mfor\u001b[39;00m axis, labels \u001b[38;5;129;01min\u001b[39;00m axes\u001b[38;5;241m.\u001b[39mitems():\n\u001b[0;32m   4787\u001b[0m     \u001b[38;5;28;01mif\u001b[39;00m labels \u001b[38;5;129;01mis\u001b[39;00m \u001b[38;5;129;01mnot\u001b[39;00m \u001b[38;5;28;01mNone\u001b[39;00m:\n\u001b[1;32m-> 4788\u001b[0m         obj \u001b[38;5;241m=\u001b[39m \u001b[43mobj\u001b[49m\u001b[38;5;241;43m.\u001b[39;49m\u001b[43m_drop_axis\u001b[49m\u001b[43m(\u001b[49m\u001b[43mlabels\u001b[49m\u001b[43m,\u001b[49m\u001b[43m \u001b[49m\u001b[43maxis\u001b[49m\u001b[43m,\u001b[49m\u001b[43m \u001b[49m\u001b[43mlevel\u001b[49m\u001b[38;5;241;43m=\u001b[39;49m\u001b[43mlevel\u001b[49m\u001b[43m,\u001b[49m\u001b[43m \u001b[49m\u001b[43merrors\u001b[49m\u001b[38;5;241;43m=\u001b[39;49m\u001b[43merrors\u001b[49m\u001b[43m)\u001b[49m\n\u001b[0;32m   4790\u001b[0m \u001b[38;5;28;01mif\u001b[39;00m inplace:\n\u001b[0;32m   4791\u001b[0m     \u001b[38;5;28mself\u001b[39m\u001b[38;5;241m.\u001b[39m_update_inplace(obj)\n",
      "File \u001b[1;32mc:\\Users\\pedro\\AppData\\Local\\Programs\\Python\\Python310\\lib\\site-packages\\pandas\\core\\generic.py:4830\u001b[0m, in \u001b[0;36mNDFrame._drop_axis\u001b[1;34m(self, labels, axis, level, errors, only_slice)\u001b[0m\n\u001b[0;32m   4828\u001b[0m         new_axis \u001b[38;5;241m=\u001b[39m axis\u001b[38;5;241m.\u001b[39mdrop(labels, level\u001b[38;5;241m=\u001b[39mlevel, errors\u001b[38;5;241m=\u001b[39merrors)\n\u001b[0;32m   4829\u001b[0m     \u001b[38;5;28;01melse\u001b[39;00m:\n\u001b[1;32m-> 4830\u001b[0m         new_axis \u001b[38;5;241m=\u001b[39m \u001b[43maxis\u001b[49m\u001b[38;5;241;43m.\u001b[39;49m\u001b[43mdrop\u001b[49m\u001b[43m(\u001b[49m\u001b[43mlabels\u001b[49m\u001b[43m,\u001b[49m\u001b[43m \u001b[49m\u001b[43merrors\u001b[49m\u001b[38;5;241;43m=\u001b[39;49m\u001b[43merrors\u001b[49m\u001b[43m)\u001b[49m\n\u001b[0;32m   4831\u001b[0m     indexer \u001b[38;5;241m=\u001b[39m axis\u001b[38;5;241m.\u001b[39mget_indexer(new_axis)\n\u001b[0;32m   4833\u001b[0m \u001b[38;5;66;03m# Case for non-unique axis\u001b[39;00m\n\u001b[0;32m   4834\u001b[0m \u001b[38;5;28;01melse\u001b[39;00m:\n",
      "File \u001b[1;32mc:\\Users\\pedro\\AppData\\Local\\Programs\\Python\\Python310\\lib\\site-packages\\pandas\\core\\indexes\\base.py:7070\u001b[0m, in \u001b[0;36mIndex.drop\u001b[1;34m(self, labels, errors)\u001b[0m\n\u001b[0;32m   7068\u001b[0m \u001b[38;5;28;01mif\u001b[39;00m mask\u001b[38;5;241m.\u001b[39many():\n\u001b[0;32m   7069\u001b[0m     \u001b[38;5;28;01mif\u001b[39;00m errors \u001b[38;5;241m!=\u001b[39m \u001b[38;5;124m\"\u001b[39m\u001b[38;5;124mignore\u001b[39m\u001b[38;5;124m\"\u001b[39m:\n\u001b[1;32m-> 7070\u001b[0m         \u001b[38;5;28;01mraise\u001b[39;00m \u001b[38;5;167;01mKeyError\u001b[39;00m(\u001b[38;5;124mf\u001b[39m\u001b[38;5;124m\"\u001b[39m\u001b[38;5;132;01m{\u001b[39;00mlabels[mask]\u001b[38;5;241m.\u001b[39mtolist()\u001b[38;5;132;01m}\u001b[39;00m\u001b[38;5;124m not found in axis\u001b[39m\u001b[38;5;124m\"\u001b[39m)\n\u001b[0;32m   7071\u001b[0m     indexer \u001b[38;5;241m=\u001b[39m indexer[\u001b[38;5;241m~\u001b[39mmask]\n\u001b[0;32m   7072\u001b[0m \u001b[38;5;28;01mreturn\u001b[39;00m \u001b[38;5;28mself\u001b[39m\u001b[38;5;241m.\u001b[39mdelete(indexer)\n",
      "\u001b[1;31mKeyError\u001b[0m: \"['x', 'y', Ellipsis] not found in axis\""
     ]
    }
   ],
   "source": [
    "#drop extra ids\n",
    "#extreme cases:\n",
    "#frame 147 - see subs\n",
    "#frame 73 - see sideline referee\n",
    "\n",
    "#ids:\n",
    "#21,72,105,8,108,316,472,432,536,602,625,836,843,1102,1232,1347,1216,1496 - referee\n",
    "#682 - camera men\n",
    "#334,307,305,621,416,759,767,779,825,836,843,851,849,868,760,903 - sub \n",
    "#775,1128,1133,1121,964,887,814,775,416 - side line referee\n",
    "df = df.drop(columns=['x', 'y',...])"
   ]
  },
  {
   "cell_type": "code",
   "execution_count": null,
   "id": "c1d6003e",
   "metadata": {},
   "outputs": [],
   "source": [
    "#see dataframe\n",
    "df.head(10)\n",
    "df.columns()"
   ]
  },
  {
   "cell_type": "markdown",
   "id": "504d6202",
   "metadata": {},
   "source": [
    "Random Walk / Interpolation of missing values"
   ]
  },
  {
   "cell_type": "code",
   "execution_count": null,
   "id": "64aa0159",
   "metadata": {},
   "outputs": [],
   "source": [
    "#todo\n"
   ]
  },
  {
   "cell_type": "markdown",
   "id": "4a581a67",
   "metadata": {},
   "source": [
    "Save Dataset"
   ]
  },
  {
   "cell_type": "code",
   "execution_count": null,
   "id": "c7cf251d",
   "metadata": {},
   "outputs": [],
   "source": [
    "#save new dataset to train folder\n"
   ]
  }
 ],
 "metadata": {
  "kernelspec": {
   "display_name": "Python 3",
   "language": "python",
   "name": "python3"
  },
  "language_info": {
   "codemirror_mode": {
    "name": "ipython",
    "version": 3
   },
   "file_extension": ".py",
   "mimetype": "text/x-python",
   "name": "python",
   "nbconvert_exporter": "python",
   "pygments_lexer": "ipython3",
   "version": "3.10.11"
  }
 },
 "nbformat": 4,
 "nbformat_minor": 5
}
