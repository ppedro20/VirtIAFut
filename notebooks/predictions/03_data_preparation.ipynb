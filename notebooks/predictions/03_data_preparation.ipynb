{
 "cells": [
  {
   "cell_type": "markdown",
   "id": "ab77c981",
   "metadata": {},
   "source": [
    "Data preparation on predicted datasets"
   ]
  },
  {
   "cell_type": "markdown",
   "id": "c15b3b70",
   "metadata": {},
   "source": [
    "Transformer"
   ]
  },
  {
   "cell_type": "code",
   "execution_count": 1,
   "id": "0b35dc61",
   "metadata": {},
   "outputs": [],
   "source": [
    "import pandas as pd\n",
    "import numpy as np\n",
    "\n",
    "filepath = '../../data/predicted/lstm_88.csv'\n",
    "\n",
    "df = pd.read_csv(filepath)"
   ]
  },
  {
   "cell_type": "code",
   "execution_count": null,
   "id": "5b18123d",
   "metadata": {},
   "outputs": [],
   "source": [
    "#combine x and y columns of players and ball - transformer\n",
    "# Identify player and ball columns\n",
    "columns = df.columns\n",
    "players = sorted(set(col[:-2] for col in columns if col.endswith(\"_x\")))\n",
    "\n",
    "# Create a new DataFrame with combined x,y format\n",
    "combined_df = pd.DataFrame()\n",
    "combined_df[\"frame_index\"] = df[\"frame_index\"]\n",
    "\n",
    "for player in players:\n",
    "    x_col = f\"{player}_x\"\n",
    "    y_col = f\"{player}_y\"\n",
    "    if x_col in df.columns and y_col in df.columns:\n",
    "        combined_df[player] = df[x_col].astype(str) + \",\" + df[y_col].astype(str)\n",
    "\n",
    "combined_df.head()\n",
    "combined_df.to_csv(\"../../data/predicted/tf_pred_xy_comb.csv\", index=False)"
   ]
  },
  {
   "cell_type": "code",
   "execution_count": null,
   "id": "0c30349c",
   "metadata": {},
   "outputs": [],
   "source": [
    "import pandas as pd\n",
    "import numpy as np\n",
    "\n",
    "filepath = '../../data/predicted/lstm_pred_xy.csv'\n",
    "\n",
    "df = pd.read_csv(filepath)"
   ]
  },
  {
   "cell_type": "code",
   "execution_count": 6,
   "id": "348abc1f",
   "metadata": {},
   "outputs": [],
   "source": [
    "#combine x and y columns of players and ball - lstm\n",
    "# Identify player and ball columns\n",
    "columns = df.columns\n",
    "players = sorted(set(col[:-2] for col in columns if col.endswith(\"_x\")))\n",
    "\n",
    "# Create a new DataFrame with combined x,y format\n",
    "combined_df = pd.DataFrame()\n",
    "combined_df[\"frame\"] = df[\"frame\"]\n",
    "\n",
    "for player in players:\n",
    "    x_col = f\"{player}_x\"\n",
    "    y_col = f\"{player}_y\"\n",
    "    if x_col in df.columns and y_col in df.columns:\n",
    "        combined_df[player] = df[x_col].astype(str) + \",\" + df[y_col].astype(str)\n",
    "\n",
    "combined_df.head()\n",
    "combined_df.to_csv(\"../../data/predicted/lstm_pred_xy_comb.csv\", index=False)"
   ]
  }
 ],
 "metadata": {
  "kernelspec": {
   "display_name": "Python 3",
   "language": "python",
   "name": "python3"
  },
  "language_info": {
   "codemirror_mode": {
    "name": "ipython",
    "version": 3
   },
   "file_extension": ".py",
   "mimetype": "text/x-python",
   "name": "python",
   "nbconvert_exporter": "python",
   "pygments_lexer": "ipython3",
   "version": "3.10.11"
  }
 },
 "nbformat": 4,
 "nbformat_minor": 5
}
