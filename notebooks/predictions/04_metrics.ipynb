{
 "cells": [
  {
   "cell_type": "markdown",
   "id": "f3002966",
   "metadata": {},
   "source": [
    "LSTM vs Transformer"
   ]
  },
  {
   "cell_type": "code",
   "execution_count": 2,
   "id": "38ee79bb",
   "metadata": {},
   "outputs": [],
   "source": [
    "#imports\n",
    "import os\n",
    "import sys\n",
    "sys.path.append(os.getenv(\"PROJECT_PATH\"))\n",
    "\n",
    "from utils.drawpitch import draw_pitch, draw_points_on_pitch,draw_paths_on_pitch\n",
    "from utils.pitchconfig import SoccerPitchConfiguration\n",
    "\n",
    "import pandas as pd\n",
    "import numpy as np\n",
    "import supervision as sv\n",
    "import ast\n",
    "import matplotlib.pyplot as plt\n",
    "import cv2\n",
    "from sklearn.metrics import accuracy_score\n",
    "\n",
    "df = pd.read_csv(\"../../data/predicted/tf_pred_xy.csv\")\n",
    "#df = pd.read_csv(\"../../data/predicted/lstm_pred_xy_comb.csv\")\n",
    "#df = pd.read_csv(\"../../data/train/train_interpolated_combined.csv\")"
   ]
  },
  {
   "cell_type": "code",
   "execution_count": null,
   "id": "d7c762b7",
   "metadata": {},
   "outputs": [
    {
     "name": "stdout",
     "output_type": "stream",
     "text": [
      "MAE: 900.6947\n",
      "MSE: 1441361.8809\n",
      "RMSE: 1200.5673\n",
      "R²: 0.5171\n"
     ]
    }
   ],
   "source": [
    "import pandas as pd\n",
    "import numpy as np\n",
    "from sklearn.metrics import mean_absolute_error, mean_squared_error, r2_score\n",
    "\n",
    "# Assume df is your DataFrame loaded\n",
    "\n",
    "# Extract all entity prefixes (as before)\n",
    "pred_prefixes = []\n",
    "true_prefixes = []\n",
    "\n",
    "for col in df.columns:\n",
    "    if col.startswith(\"pred_\") and col.endswith(\"_x\"):\n",
    "        prefix = col[5:-2]\n",
    "        pred_prefixes.append(prefix)\n",
    "\n",
    "for col in df.columns:\n",
    "    if col.startswith(\"true_\") and col.endswith(\"_x\"):\n",
    "        prefix = col[5:-2]\n",
    "        true_prefixes.append(prefix)\n",
    "\n",
    "assert set(pred_prefixes) == set(true_prefixes), \"Mismatch in predicted and true entities.\"\n",
    "\n",
    "entity_prefixes = pred_prefixes\n",
    "\n",
    "# Gather all predicted and true coords into two big arrays\n",
    "pred_coords = []\n",
    "true_coords = []\n",
    "\n",
    "for prefix in entity_prefixes:\n",
    "    pred_x = df[f\"pred_{prefix}_x\"].values\n",
    "    pred_y = df[f\"pred_{prefix}_y\"].values\n",
    "    true_x = df[f\"true_{prefix}_x\"].values\n",
    "    true_y = df[f\"true_{prefix}_y\"].values\n",
    "\n",
    "    pred_coords.append(pred_x)\n",
    "    pred_coords.append(pred_y)\n",
    "    true_coords.append(true_x)\n",
    "    true_coords.append(true_y)\n",
    "\n",
    "# Convert lists to 1D numpy arrays by concatenating all values\n",
    "pred_coords = np.concatenate(pred_coords)\n",
    "true_coords = np.concatenate(true_coords)\n",
    "\n",
    "# Calculate metrics\n",
    "mae = mean_absolute_error(true_coords, pred_coords)\n",
    "mse = mean_squared_error(true_coords, pred_coords)\n",
    "rmse = np.sqrt(mse)\n",
    "r2 = r2_score(true_coords, pred_coords)\n",
    "\n",
    "print(f\"MAE: {mae:.4f}\")\n",
    "print(f\"MSE: {mse:.4f}\")\n",
    "print(f\"RMSE: {rmse:.4f}\")\n",
    "print(f\"R²: {r2:.4f}\")\n"
   ]
  }
 ],
 "metadata": {
  "kernelspec": {
   "display_name": "Python 3",
   "language": "python",
   "name": "python3"
  },
  "language_info": {
   "codemirror_mode": {
    "name": "ipython",
    "version": 3
   },
   "file_extension": ".py",
   "mimetype": "text/x-python",
   "name": "python",
   "nbconvert_exporter": "python",
   "pygments_lexer": "ipython3",
   "version": "3.10.11"
  }
 },
 "nbformat": 4,
 "nbformat_minor": 5
}
