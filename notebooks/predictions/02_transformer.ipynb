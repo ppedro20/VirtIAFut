{
 "cells": [
  {
   "cell_type": "markdown",
   "id": "79b54548",
   "metadata": {},
   "source": [
    "Transformer"
   ]
  },
  {
   "cell_type": "code",
   "execution_count": null,
   "id": "8ddadfb1",
   "metadata": {},
   "outputs": [],
   "source": [
    "import pandas as pd\n",
    "import numpy as np\n",
    "import torch\n",
    "import torch.nn as nn\n",
    "from torch.utils.data import DataLoader, Dataset\n",
    "from sklearn.preprocessing import StandardScaler\n",
    "from sklearn.metrics import mean_squared_error\n",
    "import matplotlib.pyplot as plt\n",
    "\n",
    "# Load the dataset\n",
    "df = pd.read_csv(\"../../data/train/train_interpolated_xy.csv\")\n",
    "df = df.drop(columns=[\"frame_index\"])  # Drop frame index for training"
   ]
  },
  {
   "cell_type": "code",
   "execution_count": null,
   "id": "2cf8b5ba",
   "metadata": {},
   "outputs": [],
   "source": [
    "# Normalize the data\n",
    "scaler = StandardScaler()\n",
    "data = scaler.fit_transform(df.values)\n",
    "\n",
    "# Split into train and test\n",
    "split_idx = int(len(data) * 0.75)\n",
    "train_data = data[:split_idx]\n",
    "test_data = data[split_idx:]\n",
    "\n",
    "# Prepare sequences\n",
    "SEQ_LEN = 30\n",
    "PRED_LEN = 1\n",
    "\n",
    "class TimeSeriesDataset(Dataset):\n",
    "    def __init__(self, data, seq_len, pred_len):\n",
    "        self.data = data\n",
    "        self.seq_len = seq_len\n",
    "        self.pred_len = pred_len\n",
    "\n",
    "    def __len__(self):\n",
    "        return len(self.data) - self.seq_len - self.pred_len + 1\n",
    "\n",
    "    def __getitem__(self, idx):\n",
    "        x = self.data[idx:idx + self.seq_len]\n",
    "        y = self.data[idx + self.seq_len:idx + self.seq_len + self.pred_len]\n",
    "        return torch.tensor(x, dtype=torch.float32), torch.tensor(y, dtype=torch.float32)\n",
    "\n",
    "train_dataset = TimeSeriesDataset(train_data, SEQ_LEN, PRED_LEN)\n",
    "test_dataset = TimeSeriesDataset(test_data, SEQ_LEN, PRED_LEN)\n",
    "\n",
    "train_loader = DataLoader(train_dataset, batch_size=32, shuffle=True)\n",
    "test_loader = DataLoader(test_dataset, batch_size=32, shuffle=False)"
   ]
  },
  {
   "cell_type": "code",
   "execution_count": null,
   "id": "1820db36",
   "metadata": {},
   "outputs": [],
   "source": [
    "# Define the Transformer model\n",
    "class TransformerModel(nn.Module):\n",
    "    def __init__(self, input_size, seq_len, pred_len, d_model=64):\n",
    "        super().__init__()\n",
    "        self.input_proj = nn.Linear(input_size, d_model)\n",
    "        self.encoder_layer = nn.TransformerEncoderLayer(d_model=d_model, nhead=8, dropout=0.1, batch_first=True)\n",
    "        self.transformer_encoder = nn.TransformerEncoder(self.encoder_layer, num_layers=3)\n",
    "        self.fc_out = nn.Linear(d_model, input_size)\n",
    "        self.pos_embedding = nn.Parameter(torch.randn(1, seq_len, d_model))\n",
    "\n",
    "    def forward(self, src):\n",
    "        src = self.input_proj(src) + self.pos_embedding\n",
    "        encoded = self.transformer_encoder(src)\n",
    "        out = self.fc_out(encoded[:, -1])\n",
    "        return out.unsqueeze(1)"
   ]
  },
  {
   "cell_type": "code",
   "execution_count": null,
   "id": "7990afb5",
   "metadata": {},
   "outputs": [],
   "source": [
    "# Model setup\n",
    "input_size = train_data.shape[1]\n",
    "model = TransformerModel(input_size=input_size, seq_len=SEQ_LEN, pred_len=PRED_LEN, d_model=128)\n",
    "optimizer = torch.optim.Adam(model.parameters(), lr=0.001)\n",
    "scheduler = torch.optim.lr_scheduler.StepLR(optimizer, step_size=10, gamma=0.5)\n",
    "criterion = nn.SmoothL1Loss()"
   ]
  },
  {
   "cell_type": "code",
   "execution_count": null,
   "id": "18d88e3c",
   "metadata": {},
   "outputs": [],
   "source": [
    "# Training loop\n",
    "EPOCHS = 100\n",
    "for epoch in range(EPOCHS):\n",
    "    model.train()\n",
    "    total_loss = 0\n",
    "    for x_batch, y_batch in train_loader:\n",
    "        optimizer.zero_grad()\n",
    "        output = model(x_batch)\n",
    "        loss = criterion(output, y_batch)\n",
    "        loss.backward()\n",
    "        optimizer.step()\n",
    "        total_loss += loss.item()\n",
    "    \n",
    "    scheduler.step()\n",
    "    print(f\"Epoch {epoch+1}/{EPOCHS}, Loss: {total_loss/len(train_loader):.4f}\")"
   ]
  },
  {
   "cell_type": "code",
   "execution_count": null,
   "id": "375d22fe",
   "metadata": {},
   "outputs": [],
   "source": [
    "# Evaluation\n",
    "model.eval()\n",
    "preds, trues = [], []\n",
    "with torch.no_grad():\n",
    "    for x_batch, y_batch in test_loader:\n",
    "        output = model(x_batch)\n",
    "        preds.append(output.numpy())\n",
    "        trues.append(y_batch.numpy())\n",
    "\n",
    "preds = np.concatenate(preds, axis=0).reshape(-1, input_size)\n",
    "trues = np.concatenate(trues, axis=0).reshape(-1, input_size)"
   ]
  },
  {
   "cell_type": "code",
   "execution_count": null,
   "id": "c61e59de",
   "metadata": {},
   "outputs": [],
   "source": [
    "# Inverse transform\n",
    "preds_inv = scaler.inverse_transform(preds)\n",
    "trues_inv = scaler.inverse_transform(trues)"
   ]
  },
  {
   "cell_type": "code",
   "execution_count": null,
   "id": "1813ccbc",
   "metadata": {},
   "outputs": [],
   "source": [
    "# Compute RMSE\n",
    "rmse = np.sqrt(mean_squared_error(trues_inv[:, -2:], preds_inv[:, -2:]))\n",
    "print(f\"Ball Position RMSE: {rmse:.2f}\")"
   ]
  },
  {
   "cell_type": "markdown",
   "id": "c70852b0",
   "metadata": {},
   "source": [
    "Save Model"
   ]
  },
  {
   "cell_type": "code",
   "execution_count": null,
   "id": "071a9fe5",
   "metadata": {},
   "outputs": [],
   "source": [
    "import os\n",
    "# Directory where model will be saved\n",
    "save_dir = \"../../data/models/tf\"\n",
    "os.makedirs(save_dir, exist_ok=True)\n",
    "\n",
    "# Base filename\n",
    "version = 1\n",
    "while os.path.exists(os.path.join(save_dir, f\"v{version}.pth\")):\n",
    "    version += 1\n",
    "\n",
    "# Final path\n",
    "save_path = os.path.join(save_dir, f\"v{version}.pth\")\n",
    "\n",
    "# Save the model\n",
    "torch.save(model.state_dict(), save_path)"
   ]
  },
  {
   "cell_type": "markdown",
   "id": "1beed18c",
   "metadata": {},
   "source": [
    "Save data"
   ]
  },
  {
   "cell_type": "code",
   "execution_count": null,
   "id": "39e58804",
   "metadata": {},
   "outputs": [],
   "source": [
    "# Get feature names\n",
    "feature_names = df.columns.tolist()\n",
    "\n",
    "# Create dataframe with predictions\n",
    "output_all = pd.DataFrame(preds_inv, columns=[f\"pred_{col}\" for col in feature_names])\n",
    "output_all[[f\"true_{col}\" for col in feature_names]] = pd.DataFrame(trues_inv, columns=[f\"true_{col}\" for col in feature_names])\n",
    "output_all.insert(0, \"frame_index\", np.arange(len(output_all)))  # Optional frame index\n",
    "\n",
    "# Save to CSV\n",
    "output_all.to_csv(\"../../data/predicted/tf_pred.csv\", index=False)"
   ]
  }
 ],
 "metadata": {
  "kernelspec": {
   "display_name": "Python 3",
   "language": "python",
   "name": "python3"
  },
  "language_info": {
   "codemirror_mode": {
    "name": "ipython",
    "version": 3
   },
   "file_extension": ".py",
   "mimetype": "text/x-python",
   "name": "python",
   "nbconvert_exporter": "python",
   "pygments_lexer": "ipython3",
   "version": "3.10.11"
  }
 },
 "nbformat": 4,
 "nbformat_minor": 5
}
