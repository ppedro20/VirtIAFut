{
 "cells": [
  {
   "cell_type": "markdown",
   "id": "79b54548",
   "metadata": {},
   "source": [
    "Transformer"
   ]
  },
  {
   "cell_type": "code",
   "execution_count": 2,
   "id": "8ddadfb1",
   "metadata": {},
   "outputs": [],
   "source": [
    "import pandas as pd\n",
    "import numpy as np\n",
    "import torch\n",
    "import torch.nn as nn\n",
    "from torch.utils.data import DataLoader, Dataset\n",
    "from sklearn.preprocessing import StandardScaler\n",
    "from sklearn.metrics import mean_squared_error\n",
    "import matplotlib.pyplot as plt\n",
    "\n",
    "# Load the dataset\n",
    "df = pd.read_csv(\"../../data/train/train_interpolated_xy.csv\")\n",
    "df = df.drop(columns=[\"frame_index\"])  # Drop frame index for training"
   ]
  },
  {
   "cell_type": "code",
   "execution_count": 3,
   "id": "2cf8b5ba",
   "metadata": {},
   "outputs": [],
   "source": [
    "# Normalize the data\n",
    "scaler = StandardScaler()\n",
    "data = scaler.fit_transform(df.values)\n",
    "\n",
    "# Split into train and test\n",
    "split_idx = int(len(data) * 0.75)\n",
    "train_data = data[:split_idx]\n",
    "test_data = data[split_idx:]\n",
    "\n",
    "# Prepare sequences\n",
    "SEQ_LEN = 30\n",
    "PRED_LEN = 1\n",
    "\n",
    "class TimeSeriesDataset(Dataset):\n",
    "    def __init__(self, data, seq_len, pred_len):\n",
    "        self.data = data\n",
    "        self.seq_len = seq_len\n",
    "        self.pred_len = pred_len\n",
    "\n",
    "    def __len__(self):\n",
    "        return len(self.data) - self.seq_len - self.pred_len + 1\n",
    "\n",
    "    def __getitem__(self, idx):\n",
    "        x = self.data[idx:idx + self.seq_len]\n",
    "        y = self.data[idx + self.seq_len:idx + self.seq_len + self.pred_len]\n",
    "        return torch.tensor(x, dtype=torch.float32), torch.tensor(y, dtype=torch.float32)\n",
    "\n",
    "train_dataset = TimeSeriesDataset(train_data, SEQ_LEN, PRED_LEN)\n",
    "test_dataset = TimeSeriesDataset(test_data, SEQ_LEN, PRED_LEN)\n",
    "\n",
    "train_loader = DataLoader(train_dataset, batch_size=32, shuffle=True)\n",
    "test_loader = DataLoader(test_dataset, batch_size=32, shuffle=False)"
   ]
  },
  {
   "cell_type": "code",
   "execution_count": 4,
   "id": "1820db36",
   "metadata": {},
   "outputs": [],
   "source": [
    "# Define the Transformer model\n",
    "class TransformerModel(nn.Module):\n",
    "    def __init__(self, input_size, seq_len, pred_len, d_model=64):\n",
    "        super().__init__()\n",
    "        self.input_proj = nn.Linear(input_size, d_model)\n",
    "        self.encoder_layer = nn.TransformerEncoderLayer(d_model=d_model, nhead=8, dropout=0.1, batch_first=True)\n",
    "        self.transformer_encoder = nn.TransformerEncoder(self.encoder_layer, num_layers=3)\n",
    "        self.fc_out = nn.Linear(d_model, input_size)\n",
    "        self.pos_embedding = nn.Parameter(torch.randn(1, seq_len, d_model))\n",
    "\n",
    "    def forward(self, src):\n",
    "        src = self.input_proj(src) + self.pos_embedding\n",
    "        encoded = self.transformer_encoder(src)\n",
    "        out = self.fc_out(encoded[:, -1])\n",
    "        return out.unsqueeze(1)"
   ]
  },
  {
   "cell_type": "code",
   "execution_count": 5,
   "id": "7990afb5",
   "metadata": {},
   "outputs": [],
   "source": [
    "# Model setup\n",
    "input_size = train_data.shape[1]\n",
    "model = TransformerModel(input_size=input_size, seq_len=SEQ_LEN, pred_len=PRED_LEN, d_model=128)\n",
    "optimizer = torch.optim.Adam(model.parameters(), lr=0.001)\n",
    "scheduler = torch.optim.lr_scheduler.StepLR(optimizer, step_size=10, gamma=0.5)\n",
    "criterion = nn.SmoothL1Loss()"
   ]
  },
  {
   "cell_type": "code",
   "execution_count": 6,
   "id": "18d88e3c",
   "metadata": {},
   "outputs": [
    {
     "name": "stdout",
     "output_type": "stream",
     "text": [
      "Epoch 1/100, Loss: 0.1682\n",
      "Epoch 2/100, Loss: 0.0666\n",
      "Epoch 3/100, Loss: 0.0410\n",
      "Epoch 4/100, Loss: 0.0299\n",
      "Epoch 5/100, Loss: 0.0241\n",
      "Epoch 6/100, Loss: 0.0200\n",
      "Epoch 7/100, Loss: 0.0173\n",
      "Epoch 8/100, Loss: 0.0154\n",
      "Epoch 9/100, Loss: 0.0140\n",
      "Epoch 10/100, Loss: 0.0131\n",
      "Epoch 11/100, Loss: 0.0114\n",
      "Epoch 12/100, Loss: 0.0106\n",
      "Epoch 13/100, Loss: 0.0098\n",
      "Epoch 14/100, Loss: 0.0094\n",
      "Epoch 15/100, Loss: 0.0091\n",
      "Epoch 16/100, Loss: 0.0087\n",
      "Epoch 17/100, Loss: 0.0084\n",
      "Epoch 18/100, Loss: 0.0083\n",
      "Epoch 19/100, Loss: 0.0079\n",
      "Epoch 20/100, Loss: 0.0077\n",
      "Epoch 21/100, Loss: 0.0071\n",
      "Epoch 22/100, Loss: 0.0068\n",
      "Epoch 23/100, Loss: 0.0067\n",
      "Epoch 24/100, Loss: 0.0065\n",
      "Epoch 25/100, Loss: 0.0064\n",
      "Epoch 26/100, Loss: 0.0063\n",
      "Epoch 27/100, Loss: 0.0060\n",
      "Epoch 28/100, Loss: 0.0058\n",
      "Epoch 29/100, Loss: 0.0057\n",
      "Epoch 30/100, Loss: 0.0056\n",
      "Epoch 31/100, Loss: 0.0054\n",
      "Epoch 32/100, Loss: 0.0053\n",
      "Epoch 33/100, Loss: 0.0053\n",
      "Epoch 34/100, Loss: 0.0052\n",
      "Epoch 35/100, Loss: 0.0052\n",
      "Epoch 36/100, Loss: 0.0050\n",
      "Epoch 37/100, Loss: 0.0049\n",
      "Epoch 38/100, Loss: 0.0049\n",
      "Epoch 39/100, Loss: 0.0050\n",
      "Epoch 40/100, Loss: 0.0051\n",
      "Epoch 41/100, Loss: 0.0049\n",
      "Epoch 42/100, Loss: 0.0048\n",
      "Epoch 43/100, Loss: 0.0048\n",
      "Epoch 44/100, Loss: 0.0047\n",
      "Epoch 45/100, Loss: 0.0047\n",
      "Epoch 46/100, Loss: 0.0047\n",
      "Epoch 47/100, Loss: 0.0046\n",
      "Epoch 48/100, Loss: 0.0045\n",
      "Epoch 49/100, Loss: 0.0046\n",
      "Epoch 50/100, Loss: 0.0045\n",
      "Epoch 51/100, Loss: 0.0045\n",
      "Epoch 52/100, Loss: 0.0044\n",
      "Epoch 53/100, Loss: 0.0044\n",
      "Epoch 54/100, Loss: 0.0043\n",
      "Epoch 55/100, Loss: 0.0045\n",
      "Epoch 56/100, Loss: 0.0044\n",
      "Epoch 57/100, Loss: 0.0043\n",
      "Epoch 58/100, Loss: 0.0043\n",
      "Epoch 59/100, Loss: 0.0044\n",
      "Epoch 60/100, Loss: 0.0044\n",
      "Epoch 61/100, Loss: 0.0044\n",
      "Epoch 62/100, Loss: 0.0044\n",
      "Epoch 63/100, Loss: 0.0044\n",
      "Epoch 64/100, Loss: 0.0043\n",
      "Epoch 65/100, Loss: 0.0043\n",
      "Epoch 66/100, Loss: 0.0043\n",
      "Epoch 67/100, Loss: 0.0042\n",
      "Epoch 68/100, Loss: 0.0043\n",
      "Epoch 69/100, Loss: 0.0043\n",
      "Epoch 70/100, Loss: 0.0042\n",
      "Epoch 71/100, Loss: 0.0043\n",
      "Epoch 72/100, Loss: 0.0043\n",
      "Epoch 73/100, Loss: 0.0042\n",
      "Epoch 74/100, Loss: 0.0042\n",
      "Epoch 75/100, Loss: 0.0042\n",
      "Epoch 76/100, Loss: 0.0043\n",
      "Epoch 77/100, Loss: 0.0043\n",
      "Epoch 78/100, Loss: 0.0042\n",
      "Epoch 79/100, Loss: 0.0043\n",
      "Epoch 80/100, Loss: 0.0042\n",
      "Epoch 81/100, Loss: 0.0043\n",
      "Epoch 82/100, Loss: 0.0041\n",
      "Epoch 83/100, Loss: 0.0042\n",
      "Epoch 84/100, Loss: 0.0042\n",
      "Epoch 85/100, Loss: 0.0042\n",
      "Epoch 86/100, Loss: 0.0042\n",
      "Epoch 87/100, Loss: 0.0042\n",
      "Epoch 88/100, Loss: 0.0042\n",
      "Epoch 89/100, Loss: 0.0042\n",
      "Epoch 90/100, Loss: 0.0042\n",
      "Epoch 91/100, Loss: 0.0041\n",
      "Epoch 92/100, Loss: 0.0042\n",
      "Epoch 93/100, Loss: 0.0042\n",
      "Epoch 94/100, Loss: 0.0042\n",
      "Epoch 95/100, Loss: 0.0042\n",
      "Epoch 96/100, Loss: 0.0042\n",
      "Epoch 97/100, Loss: 0.0042\n",
      "Epoch 98/100, Loss: 0.0042\n",
      "Epoch 99/100, Loss: 0.0041\n",
      "Epoch 100/100, Loss: 0.0043\n"
     ]
    }
   ],
   "source": [
    "# Training loop\n",
    "EPOCHS = 100\n",
    "for epoch in range(EPOCHS):\n",
    "    model.train()\n",
    "    total_loss = 0\n",
    "    for x_batch, y_batch in train_loader:\n",
    "        optimizer.zero_grad()\n",
    "        output = model(x_batch)\n",
    "        loss = criterion(output, y_batch)\n",
    "        loss.backward()\n",
    "        optimizer.step()\n",
    "        total_loss += loss.item()\n",
    "    \n",
    "    scheduler.step()\n",
    "    print(f\"Epoch {epoch+1}/{EPOCHS}, Loss: {total_loss/len(train_loader):.4f}\")"
   ]
  },
  {
   "cell_type": "code",
   "execution_count": 7,
   "id": "375d22fe",
   "metadata": {},
   "outputs": [],
   "source": [
    "# Evaluation\n",
    "model.eval()\n",
    "preds, trues = [], []\n",
    "with torch.no_grad():\n",
    "    for x_batch, y_batch in test_loader:\n",
    "        output = model(x_batch)\n",
    "        preds.append(output.numpy())\n",
    "        trues.append(y_batch.numpy())\n",
    "\n",
    "preds = np.concatenate(preds, axis=0).reshape(-1, input_size)\n",
    "trues = np.concatenate(trues, axis=0).reshape(-1, input_size)"
   ]
  },
  {
   "cell_type": "code",
   "execution_count": 8,
   "id": "c61e59de",
   "metadata": {},
   "outputs": [],
   "source": [
    "# Inverse transform\n",
    "preds_inv = scaler.inverse_transform(preds)\n",
    "trues_inv = scaler.inverse_transform(trues)"
   ]
  },
  {
   "cell_type": "code",
   "execution_count": 9,
   "id": "1813ccbc",
   "metadata": {},
   "outputs": [
    {
     "name": "stdout",
     "output_type": "stream",
     "text": [
      "Ball Position RMSE: 2565.51\n"
     ]
    }
   ],
   "source": [
    "# Compute RMSE\n",
    "rmse = np.sqrt(mean_squared_error(trues_inv[:, -2:], preds_inv[:, -2:]))\n",
    "print(f\"Ball Position RMSE: {rmse:.2f}\")"
   ]
  },
  {
   "cell_type": "markdown",
   "id": "c70852b0",
   "metadata": {},
   "source": [
    "Save Model"
   ]
  },
  {
   "cell_type": "code",
   "execution_count": 10,
   "id": "071a9fe5",
   "metadata": {},
   "outputs": [],
   "source": [
    "import os\n",
    "# Directory where model will be saved\n",
    "save_dir = \"../../data/models/tf\"\n",
    "os.makedirs(save_dir, exist_ok=True)\n",
    "\n",
    "# Base filename\n",
    "version = 1\n",
    "while os.path.exists(os.path.join(save_dir, f\"v{version}.pth\")):\n",
    "    version += 1\n",
    "\n",
    "# Final path\n",
    "save_path = os.path.join(save_dir, f\"v{version}.pth\")\n",
    "\n",
    "# Save the model\n",
    "torch.save(model.state_dict(), save_path)"
   ]
  },
  {
   "cell_type": "markdown",
   "id": "1beed18c",
   "metadata": {},
   "source": [
    "Save data"
   ]
  },
  {
   "cell_type": "code",
   "execution_count": 11,
   "id": "39e58804",
   "metadata": {},
   "outputs": [],
   "source": [
    "# Get feature names\n",
    "feature_names = df.columns.tolist()\n",
    "\n",
    "# Create dataframe with predictions\n",
    "output_all = pd.DataFrame(preds_inv, columns=[f\"pred_{col}\" for col in feature_names])\n",
    "output_all[[f\"true_{col}\" for col in feature_names]] = pd.DataFrame(trues_inv, columns=[f\"true_{col}\" for col in feature_names])\n",
    "output_all.insert(0, \"frame_index\", np.arange(len(output_all)))  # Optional frame index\n",
    "\n",
    "# Save to CSV\n",
    "output_all.to_csv(\"../../data/predicted/tf_pred.csv\", index=False)"
   ]
  }
 ],
 "metadata": {
  "kernelspec": {
   "display_name": "Python 3",
   "language": "python",
   "name": "python3"
  },
  "language_info": {
   "codemirror_mode": {
    "name": "ipython",
    "version": 3
   },
   "file_extension": ".py",
   "mimetype": "text/x-python",
   "name": "python",
   "nbconvert_exporter": "python",
   "pygments_lexer": "ipython3",
   "version": "3.10.11"
  }
 },
 "nbformat": 4,
 "nbformat_minor": 5
}
