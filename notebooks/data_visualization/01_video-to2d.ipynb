{
 "cells": [
  {
   "cell_type": "markdown",
   "id": "0a35d8bf",
   "metadata": {},
   "source": [
    "Transform coords to 2d video"
   ]
  },
  {
   "cell_type": "code",
   "execution_count": 4,
   "id": "cb56712b",
   "metadata": {},
   "outputs": [],
   "source": [
    "import os\n",
    "import sys\n",
    "sys.path.append(os.getenv(\"PROJECT_PATH\"))\n",
    "\n",
    "from utils.drawpitch import draw_pitch, draw_points_on_pitch,draw_paths_on_pitch\n",
    "from utils.pitchconfig import SoccerPitchConfiguration\n",
    "\n",
    "import pandas as pd\n",
    "import numpy as np\n",
    "import supervision as sv\n",
    "\n",
    "df = pd.read_csv(\"../../data/train/train_interpolated_combined.csv\")"
   ]
  },
  {
   "cell_type": "code",
   "execution_count": 5,
   "id": "2507b0bf",
   "metadata": {},
   "outputs": [],
   "source": [
    "#Supervision - virtualization\n",
    "CONFIG = SoccerPitchConfiguration()\n",
    "\n",
    "edge_annotator = sv.EdgeAnnotator(\n",
    "    color=sv.Color.from_hex('#00BFFF'),\n",
    "    thickness=2, edges=CONFIG.edges)\n",
    "vertex_annotator = sv.VertexAnnotator(\n",
    "    color=sv.Color.from_hex('#FF1493'),\n",
    "    radius=8)\n",
    "vertex_annotator_2 = sv.VertexAnnotator(\n",
    "    color=sv.Color.from_hex('#00BFFF'),\n",
    "    radius=8)"
   ]
  },
  {
   "cell_type": "code",
   "execution_count": null,
   "id": "a1f2770d",
   "metadata": {},
   "outputs": [],
   "source": [
    "#transform every frame into 2d\n"
   ]
  }
 ],
 "metadata": {
  "kernelspec": {
   "display_name": "Python 3",
   "language": "python",
   "name": "python3"
  },
  "language_info": {
   "codemirror_mode": {
    "name": "ipython",
    "version": 3
   },
   "file_extension": ".py",
   "mimetype": "text/x-python",
   "name": "python",
   "nbconvert_exporter": "python",
   "pygments_lexer": "ipython3",
   "version": "3.10.11"
  }
 },
 "nbformat": 4,
 "nbformat_minor": 5
}
